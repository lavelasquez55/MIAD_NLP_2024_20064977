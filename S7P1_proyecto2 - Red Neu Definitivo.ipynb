{
 "cells": [
  {
   "cell_type": "markdown",
   "metadata": {},
   "source": [
    "![image info](https://raw.githubusercontent.com/albahnsen/MIAD_ML_and_NLP/main/images/banner_1.png)"
   ]
  },
  {
   "cell_type": "markdown",
   "metadata": {},
   "source": [
    "# Proyecto 2 - Clasificación de género de películas\n",
    "\n",
    "El propósito de este proyecto es que puedan poner en práctica, en sus respectivos grupos de trabajo, sus conocimientos sobre técnicas de preprocesamiento, modelos predictivos de NLP, y la disponibilización de modelos. Para su desarrollo tengan en cuenta las instrucciones dadas en la \"Guía del proyecto 2: Clasificación de género de películas\"\n",
    "\n",
    "**Entrega**: La entrega del proyecto deberán realizarla durante la semana 8. Sin embargo, es importante que avancen en la semana 7 en el modelado del problema y en parte del informe, tal y como se les indicó en la guía.\n",
    "\n",
    "Para hacer la entrega, deberán adjuntar el informe autocontenido en PDF a la actividad de entrega del proyecto que encontrarán en la semana 8, y subir el archivo de predicciones a la [competencia de Kaggle](https://www.kaggle.com/t/2c54d005f76747fe83f77fbf8b3ec232)."
   ]
  },
  {
   "cell_type": "markdown",
   "metadata": {},
   "source": [
    "## Datos para la predicción de género en películas"
   ]
  },
  {
   "cell_type": "markdown",
   "metadata": {},
   "source": [
    "![image info](https://raw.githubusercontent.com/albahnsen/MIAD_ML_and_NLP/main/images/moviegenre.png)"
   ]
  },
  {
   "cell_type": "markdown",
   "metadata": {},
   "source": [
    "En este proyecto se usará un conjunto de datos de géneros de películas. Cada observación contiene el título de una película, su año de lanzamiento, la sinopsis o plot de la película (resumen de la trama) y los géneros a los que pertenece (una película puede pertenercer a más de un género). Por ejemplo:\n",
    "- Título: 'How to Be a Serial Killer'\n",
    "- Plot: 'A serial killer decides to teach the secrets of his satisfying career to a video store clerk.'\n",
    "- Generos: 'Comedy', 'Crime', 'Horror'\n",
    "\n",
    "La idea es que usen estos datos para predecir la probabilidad de que una película pertenezca, dada la sinopsis, a cada uno de los géneros."
   ]
  },
  {
   "cell_type": "markdown",
   "metadata": {},
   "source": [
    "Agradecemos al profesor Fabio González, Ph.D. y a su alumno John Arevalo por proporcionar este conjunto de datos. Ver https://arxiv.org/abs/1702.01992"
   ]
  },
  {
   "cell_type": "markdown",
   "metadata": {},
   "source": [
    "## Ejemplo predicción conjunto de test para envío a Kaggle\n",
    "En esta sección encontrarán el formato en el que deben guardar los resultados de la predicción para que puedan subirlos a la competencia en Kaggle."
   ]
  },
  {
   "cell_type": "code",
   "execution_count": 1,
   "metadata": {},
   "outputs": [
    {
     "name": "stderr",
     "output_type": "stream",
     "text": [
      "[nltk_data] Downloading package stopwords to\n",
      "[nltk_data]     C:\\Users\\userml\\AppData\\Roaming\\nltk_data...\n",
      "[nltk_data]   Package stopwords is already up-to-date!\n",
      "[nltk_data] Downloading package wordnet to\n",
      "[nltk_data]     C:\\Users\\userml\\AppData\\Roaming\\nltk_data...\n",
      "[nltk_data]   Package wordnet is already up-to-date!\n"
     ]
    },
    {
     "data": {
      "text/plain": [
       "True"
      ]
     },
     "execution_count": 1,
     "metadata": {},
     "output_type": "execute_result"
    }
   ],
   "source": [
    "# Importación librerías\n",
    "\n",
    "import pandas as pd\n",
    "import re\n",
    "import numpy as np\n",
    "import tensorflow as tf\n",
    "from tensorflow.keras.preprocessing.text import Tokenizer\n",
    "from tensorflow.keras.preprocessing.sequence import pad_sequences\n",
    "from tensorflow.keras.models import Sequential\n",
    "from tensorflow.keras.layers import Embedding, LSTM, Dense, Dropout, Bidirectional, SpatialDropout1D\n",
    "from tensorflow.keras.optimizers import Adam\n",
    "from tensorflow.keras.callbacks import EarlyStopping, ReduceLROnPlateau, LearningRateScheduler\n",
    "from tensorflow.keras.metrics import AUC\n",
    "from sklearn.preprocessing import MultiLabelBinarizer\n",
    "from sklearn.model_selection import train_test_split\n",
    "from sklearn.metrics import roc_auc_score\n",
    "from nltk.corpus import stopwords\n",
    "from nltk.stem import WordNetLemmatizer\n",
    "import nltk\n",
    "\n",
    "nltk.download('stopwords')\n",
    "nltk.download('wordnet')\n",
    "\n",
    "import warnings\n",
    "warnings.filterwarnings('ignore')"
   ]
  },
  {
   "cell_type": "code",
   "execution_count": 2,
   "metadata": {},
   "outputs": [],
   "source": [
    "# Carga de datos de archivo .csv Se descargo la informacion del Github ya que el servidor no nos dio permisos\n",
    "\n",
    "#dataTraining = pd.read_csv('https://github.com/albahnsen/MIAD_ML_and_NLP/raw/main/datasets/dataTraining.zip', encoding='UTF-8', index_col=0)\n",
    "#dataTesting = pd.read_csv('https://github.com/albahnsen/MIAD_ML_and_NLP/raw/main/datasets/dataTesting.zip', encoding='UTF-8', index_col=0)\n",
    "dataTraining = pd.read_csv('dataTraining.csv', encoding='UTF-8', index_col=0)\n",
    "dataTesting = pd.read_csv('dataTesting.csv', encoding='UTF-8', index_col=0)"
   ]
  },
  {
   "cell_type": "code",
   "execution_count": 3,
   "metadata": {},
   "outputs": [
    {
     "data": {
      "text/html": [
       "<div>\n",
       "<style scoped>\n",
       "    .dataframe tbody tr th:only-of-type {\n",
       "        vertical-align: middle;\n",
       "    }\n",
       "\n",
       "    .dataframe tbody tr th {\n",
       "        vertical-align: top;\n",
       "    }\n",
       "\n",
       "    .dataframe thead th {\n",
       "        text-align: right;\n",
       "    }\n",
       "</style>\n",
       "<table border=\"1\" class=\"dataframe\">\n",
       "  <thead>\n",
       "    <tr style=\"text-align: right;\">\n",
       "      <th></th>\n",
       "      <th>year</th>\n",
       "      <th>title</th>\n",
       "      <th>plot</th>\n",
       "      <th>genres</th>\n",
       "      <th>rating</th>\n",
       "    </tr>\n",
       "  </thead>\n",
       "  <tbody>\n",
       "    <tr>\n",
       "      <th>3107</th>\n",
       "      <td>2003</td>\n",
       "      <td>Most</td>\n",
       "      <td>most is the story of a single father who takes...</td>\n",
       "      <td>['Short', 'Drama']</td>\n",
       "      <td>8.0</td>\n",
       "    </tr>\n",
       "    <tr>\n",
       "      <th>900</th>\n",
       "      <td>2008</td>\n",
       "      <td>How to Be a Serial Killer</td>\n",
       "      <td>a serial killer decides to teach the secrets o...</td>\n",
       "      <td>['Comedy', 'Crime', 'Horror']</td>\n",
       "      <td>5.6</td>\n",
       "    </tr>\n",
       "    <tr>\n",
       "      <th>6724</th>\n",
       "      <td>1941</td>\n",
       "      <td>A Woman's Face</td>\n",
       "      <td>in sweden ,  a female blackmailer with a disfi...</td>\n",
       "      <td>['Drama', 'Film-Noir', 'Thriller']</td>\n",
       "      <td>7.2</td>\n",
       "    </tr>\n",
       "    <tr>\n",
       "      <th>4704</th>\n",
       "      <td>1954</td>\n",
       "      <td>Executive Suite</td>\n",
       "      <td>in a friday afternoon in new york ,  the presi...</td>\n",
       "      <td>['Drama']</td>\n",
       "      <td>7.4</td>\n",
       "    </tr>\n",
       "    <tr>\n",
       "      <th>2582</th>\n",
       "      <td>1990</td>\n",
       "      <td>Narrow Margin</td>\n",
       "      <td>in los angeles ,  the editor of a publishing h...</td>\n",
       "      <td>['Action', 'Crime', 'Thriller']</td>\n",
       "      <td>6.6</td>\n",
       "    </tr>\n",
       "  </tbody>\n",
       "</table>\n",
       "</div>"
      ],
      "text/plain": [
       "      year                      title  \\\n",
       "3107  2003                       Most   \n",
       "900   2008  How to Be a Serial Killer   \n",
       "6724  1941             A Woman's Face   \n",
       "4704  1954            Executive Suite   \n",
       "2582  1990              Narrow Margin   \n",
       "\n",
       "                                                   plot  \\\n",
       "3107  most is the story of a single father who takes...   \n",
       "900   a serial killer decides to teach the secrets o...   \n",
       "6724  in sweden ,  a female blackmailer with a disfi...   \n",
       "4704  in a friday afternoon in new york ,  the presi...   \n",
       "2582  in los angeles ,  the editor of a publishing h...   \n",
       "\n",
       "                                  genres  rating  \n",
       "3107                  ['Short', 'Drama']     8.0  \n",
       "900        ['Comedy', 'Crime', 'Horror']     5.6  \n",
       "6724  ['Drama', 'Film-Noir', 'Thriller']     7.2  \n",
       "4704                           ['Drama']     7.4  \n",
       "2582     ['Action', 'Crime', 'Thriller']     6.6  "
      ]
     },
     "execution_count": 3,
     "metadata": {},
     "output_type": "execute_result"
    }
   ],
   "source": [
    "# Visualización datos de entrenamiento\n",
    "dataTraining.head()"
   ]
  },
  {
   "cell_type": "code",
   "execution_count": 4,
   "metadata": {},
   "outputs": [
    {
     "data": {
      "text/html": [
       "<div>\n",
       "<style scoped>\n",
       "    .dataframe tbody tr th:only-of-type {\n",
       "        vertical-align: middle;\n",
       "    }\n",
       "\n",
       "    .dataframe tbody tr th {\n",
       "        vertical-align: top;\n",
       "    }\n",
       "\n",
       "    .dataframe thead th {\n",
       "        text-align: right;\n",
       "    }\n",
       "</style>\n",
       "<table border=\"1\" class=\"dataframe\">\n",
       "  <thead>\n",
       "    <tr style=\"text-align: right;\">\n",
       "      <th></th>\n",
       "      <th>year</th>\n",
       "      <th>title</th>\n",
       "      <th>plot</th>\n",
       "    </tr>\n",
       "  </thead>\n",
       "  <tbody>\n",
       "    <tr>\n",
       "      <th>1</th>\n",
       "      <td>1999</td>\n",
       "      <td>Message in a Bottle</td>\n",
       "      <td>who meets by fate ,  shall be sealed by fate ....</td>\n",
       "    </tr>\n",
       "    <tr>\n",
       "      <th>4</th>\n",
       "      <td>1978</td>\n",
       "      <td>Midnight Express</td>\n",
       "      <td>the true story of billy hayes ,  an american c...</td>\n",
       "    </tr>\n",
       "    <tr>\n",
       "      <th>5</th>\n",
       "      <td>1996</td>\n",
       "      <td>Primal Fear</td>\n",
       "      <td>martin vail left the chicago da ' s office to ...</td>\n",
       "    </tr>\n",
       "    <tr>\n",
       "      <th>6</th>\n",
       "      <td>1950</td>\n",
       "      <td>Crisis</td>\n",
       "      <td>husband and wife americans dr .  eugene and mr...</td>\n",
       "    </tr>\n",
       "    <tr>\n",
       "      <th>7</th>\n",
       "      <td>1959</td>\n",
       "      <td>The Tingler</td>\n",
       "      <td>the coroner and scientist dr .  warren chapin ...</td>\n",
       "    </tr>\n",
       "  </tbody>\n",
       "</table>\n",
       "</div>"
      ],
      "text/plain": [
       "   year                title  \\\n",
       "1  1999  Message in a Bottle   \n",
       "4  1978     Midnight Express   \n",
       "5  1996          Primal Fear   \n",
       "6  1950               Crisis   \n",
       "7  1959          The Tingler   \n",
       "\n",
       "                                                plot  \n",
       "1  who meets by fate ,  shall be sealed by fate ....  \n",
       "4  the true story of billy hayes ,  an american c...  \n",
       "5  martin vail left the chicago da ' s office to ...  \n",
       "6  husband and wife americans dr .  eugene and mr...  \n",
       "7  the coroner and scientist dr .  warren chapin ...  "
      ]
     },
     "execution_count": 4,
     "metadata": {},
     "output_type": "execute_result"
    }
   ],
   "source": [
    "# Visualización datos de test\n",
    "dataTesting.head()"
   ]
  },
  {
   "cell_type": "code",
   "execution_count": 5,
   "metadata": {},
   "outputs": [],
   "source": [
    "# Convertir todas las palabras a minúsculas\n",
    "#dataTraining[\"plot\"]"
   ]
  },
  {
   "cell_type": "code",
   "execution_count": 6,
   "metadata": {},
   "outputs": [],
   "source": [
    "# Definición de la función para limpiar los datos\n",
    "stop_words = set(stopwords.words('english'))\n",
    "lemmatizer = WordNetLemmatizer()\n",
    "\n",
    "def clean_text(text):\n",
    "    text = text.lower()\n",
    "    text = re.sub(r'[^\\w\\s]', '', text)\n",
    "    text = re.sub(r'\\d+', '', text)\n",
    "    text = ' '.join([lemmatizer.lemmatize(word) for word in text.split() if word not in stop_words])\n",
    "    return text"
   ]
  },
  {
   "cell_type": "code",
   "execution_count": 7,
   "metadata": {},
   "outputs": [],
   "source": [
    "# Invocar la función para limpiar los datos 'plot'\n",
    "dataTraining['plot_cleaned'] = dataTraining['plot'].apply(clean_text)\n",
    "dataTesting['plot_cleaned'] = dataTesting['plot'].apply(clean_text)"
   ]
  },
  {
   "cell_type": "code",
   "execution_count": 196,
   "metadata": {},
   "outputs": [],
   "source": [
    "# Tokenizar los datos\n",
    "tokenizer = Tokenizer(num_words=30000)\n",
    "tokenizer.fit_on_texts(dataTraining['plot_cleaned'])\n",
    "X_train_seq = tokenizer.texts_to_sequences(dataTraining['plot_cleaned'])\n",
    "X_test_seq = tokenizer.texts_to_sequences(dataTesting['plot_cleaned'])\n",
    "\n",
    "max_seq_len = 500\n",
    "X_train_padded = pad_sequences(X_train_seq, maxlen=max_seq_len, padding='post')\n",
    "X_test_padded = pad_sequences(X_test_seq, maxlen=max_seq_len, padding='post')"
   ]
  },
  {
   "cell_type": "code",
   "execution_count": 9,
   "metadata": {},
   "outputs": [],
   "source": [
    "# Cargue de datos GloVe embeddings\n",
    "embeddings_index = {}\n",
    "glove_path = r'C:\\Users\\userml\\Documents\\Proyecto 2\\glove.6B.300d.txt'  "
   ]
  },
  {
   "cell_type": "code",
   "execution_count": 10,
   "metadata": {},
   "outputs": [],
   "source": [
    "with open(glove_path, encoding='utf8') as f:\n",
    "    for line in f:\n",
    "        values = line.split()\n",
    "        word = values[0]\n",
    "        coefs = np.asarray(values[1:], dtype='float32')\n",
    "        embeddings_index[word] = coefs\n",
    "\n",
    "embedding_dim = 300  # Cambiado a 300 dimensiones\n",
    "word_index = tokenizer.word_index\n",
    "embedding_matrix = np.zeros((len(word_index) + 1, embedding_dim))\n",
    "\n",
    "for word, i in word_index.items():\n",
    "    embedding_vector = embeddings_index.get(word)\n",
    "    if embedding_vector is not None:\n",
    "        embedding_matrix[i] = embedding_vector"
   ]
  },
  {
   "cell_type": "code",
   "execution_count": 12,
   "metadata": {},
   "outputs": [],
   "source": [
    "# Definir la variable objetivo\n",
    "dataTraining['genres'] = dataTraining['genres'].map(lambda x: eval(x) if isinstance(x, str) else x)\n",
    "le = MultiLabelBinarizer()\n",
    "y_genres = le.fit_transform(dataTraining['genres'])\n"
   ]
  },
  {
   "cell_type": "code",
   "execution_count": 13,
   "metadata": {},
   "outputs": [],
   "source": [
    "# Separación de variables predictoras (X) y variable de interés (y) en set de entrenamiento y test usandola función train_test_split\n",
    "\n",
    "X_train, X_val, y_train, y_val = train_test_split(X_train_padded, y_genres, test_size=0.2, random_state=42)"
   ]
  },
  {
   "cell_type": "code",
   "execution_count": 14,
   "metadata": {},
   "outputs": [
    {
     "name": "stderr",
     "output_type": "stream",
     "text": [
      "C:\\Users\\userml\\AppData\\Local\\Programs\\Python\\Python312\\Lib\\site-packages\\keras\\src\\layers\\core\\embedding.py:90: UserWarning: Argument `input_length` is deprecated. Just remove it.\n",
      "  warnings.warn(\n"
     ]
    }
   ],
   "source": [
    "# Definir el modelo\n",
    "model = Sequential()\n",
    "model.add(Embedding(input_dim=len(word_index) + 1, output_dim=embedding_dim, weights=[embedding_matrix], input_length=max_seq_len, trainable=True))\n",
    "model.add(SpatialDropout1D(0.3))\n",
    "model.add(Bidirectional(LSTM(256, return_sequences=True)))  \n",
    "model.add(Dropout(0.5))\n",
    "model.add(Bidirectional(LSTM(128)))  \n",
    "model.add(Dropout(0.5))\n",
    "model.add(Dense(len(le.classes_), activation='sigmoid'))\n",
    "\n",
    "model.compile(loss='binary_crossentropy', optimizer=Adam(learning_rate=0.001), metrics=[AUC(name='auc')])"
   ]
  },
  {
   "cell_type": "code",
   "execution_count": 16,
   "metadata": {},
   "outputs": [],
   "source": [
    "early_stopping = EarlyStopping(monitor='val_loss', patience=5, restore_best_weights=True)\n",
    "reduce_lr = ReduceLROnPlateau(monitor='val_loss', factor=0.1, patience=3, min_lr=0.00001)\n",
    "\n",
    "def scheduler(epoch, lr):\n",
    "    if epoch < 5:\n",
    "        return lr\n",
    "    else:\n",
    "        return float(lr * tf.math.exp(-0.1))\n",
    "\n",
    "lr_scheduler = LearningRateScheduler(scheduler)"
   ]
  },
  {
   "cell_type": "code",
   "execution_count": 17,
   "metadata": {},
   "outputs": [
    {
     "name": "stdout",
     "output_type": "stream",
     "text": [
      "Epoch 1/20\n",
      "\u001b[1m50/50\u001b[0m \u001b[32m━━━━━━━━━━━━━━━━━━━━\u001b[0m\u001b[37m\u001b[0m \u001b[1m344s\u001b[0m 7s/step - auc: 0.6684 - loss: 0.4018 - val_auc: 0.7919 - val_loss: 0.2964 - learning_rate: 0.0010\n",
      "Epoch 2/20\n",
      "\u001b[1m50/50\u001b[0m \u001b[32m━━━━━━━━━━━━━━━━━━━━\u001b[0m\u001b[37m\u001b[0m \u001b[1m409s\u001b[0m 8s/step - auc: 0.7787 - loss: 0.2988 - val_auc: 0.8217 - val_loss: 0.2798 - learning_rate: 0.0010\n",
      "Epoch 3/20\n",
      "\u001b[1m50/50\u001b[0m \u001b[32m━━━━━━━━━━━━━━━━━━━━\u001b[0m\u001b[37m\u001b[0m \u001b[1m469s\u001b[0m 9s/step - auc: 0.8221 - loss: 0.2778 - val_auc: 0.8658 - val_loss: 0.2535 - learning_rate: 0.0010\n",
      "Epoch 4/20\n",
      "\u001b[1m50/50\u001b[0m \u001b[32m━━━━━━━━━━━━━━━━━━━━\u001b[0m\u001b[37m\u001b[0m \u001b[1m519s\u001b[0m 10s/step - auc: 0.8607 - loss: 0.2548 - val_auc: 0.8855 - val_loss: 0.2380 - learning_rate: 0.0010\n",
      "Epoch 5/20\n",
      "\u001b[1m50/50\u001b[0m \u001b[32m━━━━━━━━━━━━━━━━━━━━\u001b[0m\u001b[37m\u001b[0m \u001b[1m536s\u001b[0m 11s/step - auc: 0.8871 - loss: 0.2344 - val_auc: 0.8949 - val_loss: 0.2299 - learning_rate: 0.0010\n",
      "Epoch 6/20\n",
      "\u001b[1m50/50\u001b[0m \u001b[32m━━━━━━━━━━━━━━━━━━━━\u001b[0m\u001b[37m\u001b[0m \u001b[1m577s\u001b[0m 11s/step - auc: 0.9057 - loss: 0.2195 - val_auc: 0.9031 - val_loss: 0.2222 - learning_rate: 9.0484e-04\n",
      "Epoch 7/20\n",
      "\u001b[1m50/50\u001b[0m \u001b[32m━━━━━━━━━━━━━━━━━━━━\u001b[0m\u001b[37m\u001b[0m \u001b[1m566s\u001b[0m 11s/step - auc: 0.9190 - loss: 0.2053 - val_auc: 0.9076 - val_loss: 0.2190 - learning_rate: 8.1873e-04\n",
      "Epoch 8/20\n",
      "\u001b[1m50/50\u001b[0m \u001b[32m━━━━━━━━━━━━━━━━━━━━\u001b[0m\u001b[37m\u001b[0m \u001b[1m586s\u001b[0m 12s/step - auc: 0.9292 - loss: 0.1931 - val_auc: 0.9113 - val_loss: 0.2153 - learning_rate: 7.4082e-04\n",
      "Epoch 9/20\n",
      "\u001b[1m50/50\u001b[0m \u001b[32m━━━━━━━━━━━━━━━━━━━━\u001b[0m\u001b[37m\u001b[0m \u001b[1m598s\u001b[0m 12s/step - auc: 0.9374 - loss: 0.1826 - val_auc: 0.9135 - val_loss: 0.2135 - learning_rate: 6.7032e-04\n",
      "Epoch 10/20\n",
      "\u001b[1m50/50\u001b[0m \u001b[32m━━━━━━━━━━━━━━━━━━━━\u001b[0m\u001b[37m\u001b[0m \u001b[1m602s\u001b[0m 12s/step - auc: 0.9449 - loss: 0.1719 - val_auc: 0.9155 - val_loss: 0.2121 - learning_rate: 6.0653e-04\n",
      "Epoch 11/20\n",
      "\u001b[1m50/50\u001b[0m \u001b[32m━━━━━━━━━━━━━━━━━━━━\u001b[0m\u001b[37m\u001b[0m \u001b[1m615s\u001b[0m 12s/step - auc: 0.9500 - loss: 0.1649 - val_auc: 0.9148 - val_loss: 0.2137 - learning_rate: 5.4881e-04\n",
      "Epoch 12/20\n",
      "\u001b[1m50/50\u001b[0m \u001b[32m━━━━━━━━━━━━━━━━━━━━\u001b[0m\u001b[37m\u001b[0m \u001b[1m624s\u001b[0m 12s/step - auc: 0.9532 - loss: 0.1584 - val_auc: 0.9165 - val_loss: 0.2115 - learning_rate: 4.9659e-04\n",
      "Epoch 13/20\n",
      "\u001b[1m50/50\u001b[0m \u001b[32m━━━━━━━━━━━━━━━━━━━━\u001b[0m\u001b[37m\u001b[0m \u001b[1m638s\u001b[0m 13s/step - auc: 0.9573 - loss: 0.1515 - val_auc: 0.9169 - val_loss: 0.2122 - learning_rate: 4.4933e-04\n",
      "Epoch 14/20\n",
      "\u001b[1m50/50\u001b[0m \u001b[32m━━━━━━━━━━━━━━━━━━━━\u001b[0m\u001b[37m\u001b[0m \u001b[1m644s\u001b[0m 13s/step - auc: 0.9604 - loss: 0.1472 - val_auc: 0.9171 - val_loss: 0.2119 - learning_rate: 4.0657e-04\n",
      "Epoch 15/20\n",
      "\u001b[1m50/50\u001b[0m \u001b[32m━━━━━━━━━━━━━━━━━━━━\u001b[0m\u001b[37m\u001b[0m \u001b[1m649s\u001b[0m 13s/step - auc: 0.9626 - loss: 0.1437 - val_auc: 0.9178 - val_loss: 0.2132 - learning_rate: 3.6788e-05\n",
      "Epoch 16/20\n",
      "\u001b[1m50/50\u001b[0m \u001b[32m━━━━━━━━━━━━━━━━━━━━\u001b[0m\u001b[37m\u001b[0m \u001b[1m644s\u001b[0m 13s/step - auc: 0.9655 - loss: 0.1392 - val_auc: 0.9177 - val_loss: 0.2133 - learning_rate: 3.3287e-05\n",
      "Epoch 17/20\n",
      "\u001b[1m50/50\u001b[0m \u001b[32m━━━━━━━━━━━━━━━━━━━━\u001b[0m\u001b[37m\u001b[0m \u001b[1m643s\u001b[0m 13s/step - auc: 0.9665 - loss: 0.1354 - val_auc: 0.9178 - val_loss: 0.2129 - learning_rate: 3.0119e-05\n"
     ]
    }
   ],
   "source": [
    "# Entrenar el modelo\n",
    "history = model.fit(X_train, y_train, epochs=20, batch_size=128, validation_data=(X_val, y_val), callbacks=[early_stopping, reduce_lr, lr_scheduler])"
   ]
  },
  {
   "cell_type": "code",
   "execution_count": 18,
   "metadata": {},
   "outputs": [
    {
     "name": "stdout",
     "output_type": "stream",
     "text": [
      "\u001b[1m50/50\u001b[0m \u001b[32m━━━━━━━━━━━━━━━━━━━━\u001b[0m\u001b[37m\u001b[0m \u001b[1m33s\u001b[0m 658ms/step\n",
      "ROC AUC score: 0.8752441973979918\n"
     ]
    }
   ],
   "source": [
    "# Evaluar el modelo\n",
    "y_val_pred = model.predict(X_val)\n",
    "roc_auc = roc_auc_score(y_val, y_val_pred, average='macro')\n",
    "print(f'ROC AUC score: {roc_auc}')"
   ]
  },
  {
   "cell_type": "code",
   "execution_count": 19,
   "metadata": {},
   "outputs": [
    {
     "name": "stdout",
     "output_type": "stream",
     "text": [
      "\u001b[1m106/106\u001b[0m \u001b[32m━━━━━━━━━━━━━━━━━━━━\u001b[0m\u001b[37m\u001b[0m \u001b[1m67s\u001b[0m 630ms/step\n"
     ]
    }
   ],
   "source": [
    "# Predicción con los datos de prueba\n",
    "y_test_pred = model.predict(X_test_padded)"
   ]
  },
  {
   "cell_type": "code",
   "execution_count": 20,
   "metadata": {},
   "outputs": [
    {
     "name": "stdout",
     "output_type": "stream",
     "text": [
      "   p_Action  p_Adventure  p_Animation  p_Biography  p_Comedy   p_Crime  \\\n",
      "1  0.001352     0.007599     0.000637     0.004125  0.761713  0.014265   \n",
      "4  0.110071     0.010819     0.000622     0.237064  0.053731  0.743492   \n",
      "5  0.060138     0.004059     0.000157     0.033374  0.062364  0.928365   \n",
      "6  0.077048     0.038337     0.000165     0.007262  0.029274  0.089453   \n",
      "7  0.023518     0.015545     0.000509     0.006084  0.031476  0.060377   \n",
      "\n",
      "   p_Documentary   p_Drama  p_Family  p_Fantasy  ...  p_Musical  p_Mystery  \\\n",
      "1       0.000753  0.838573  0.008699   0.014334  ...   0.016757   0.008411   \n",
      "4       0.023588  0.930460  0.001160   0.001941  ...   0.008084   0.038446   \n",
      "5       0.005234  0.918653  0.000474   0.002217  ...   0.001635   0.295490   \n",
      "6       0.001951  0.884827  0.000706   0.004850  ...   0.000669   0.116021   \n",
      "7       0.007203  0.275910  0.001985   0.051811  ...   0.002000   0.506919   \n",
      "\n",
      "     p_News  p_Romance  p_Sci-Fi   p_Short   p_Sport  p_Thriller     p_War  \\\n",
      "1  0.000108   0.623122  0.001273  0.001819  0.003704    0.007140  0.000601   \n",
      "4  0.002225   0.078878  0.001302  0.003605  0.041985    0.338720  0.023721   \n",
      "5  0.001238   0.089270  0.002779  0.001599  0.002332    0.834261  0.005458   \n",
      "6  0.000303   0.099668  0.019841  0.000654  0.001325    0.573387  0.038341   \n",
      "7  0.000474   0.021295  0.133445  0.002549  0.000529    0.800716  0.000864   \n",
      "\n",
      "   p_Western  \n",
      "1   0.001425  \n",
      "4   0.049730  \n",
      "5   0.004962  \n",
      "6   0.003975  \n",
      "7   0.002990  \n",
      "\n",
      "[5 rows x 24 columns]\n"
     ]
    }
   ],
   "source": [
    "# Guardar los datos de la predicción\n",
    "cols = ['p_Action', 'p_Adventure', 'p_Animation', 'p_Biography', 'p_Comedy', 'p_Crime', 'p_Documentary', 'p_Drama', 'p_Family',\n",
    "        'p_Fantasy', 'p_Film-Noir', 'p_History', 'p_Horror', 'p_Music', 'p_Musical', 'p_Mystery', 'p_News', 'p_Romance',\n",
    "        'p_Sci-Fi', 'p_Short', 'p_Sport', 'p_Thriller', 'p_War', 'p_Western']\n",
    "\n",
    "res = pd.DataFrame(y_test_pred, index=dataTesting.index, columns=cols)\n",
    "res.to_csv('pred_genres_lstm_07.csv', index_label='ID')\n",
    "print(res.head())\n"
   ]
  },
  {
   "cell_type": "markdown",
   "metadata": {},
   "source": [
    "**Disponibilización de la API**"
   ]
  },
  {
   "cell_type": "code",
   "execution_count": 243,
   "metadata": {},
   "outputs": [],
   "source": [
    "Plot = 'two drifters are passing through a western town ,  when news comes in that a local farmer has been murdered and his cattle stolen .  the townspeople ,  joined by the drifters ,  form a posse to catch the perpetrators .  they find three men in possession of the cattle ,  and are determined to see justice done on the spot .'"
   ]
  },
  {
   "cell_type": "code",
   "execution_count": 245,
   "metadata": {},
   "outputs": [],
   "source": [
    "df['Plot_Cleaned'] = df['plot'].apply(clean_text)"
   ]
  },
  {
   "cell_type": "code",
   "execution_count": 247,
   "metadata": {},
   "outputs": [],
   "source": [
    "Text = tokenizer.texts_to_sequences(df['Plot_Cleaned'])"
   ]
  },
  {
   "cell_type": "code",
   "execution_count": 249,
   "metadata": {},
   "outputs": [],
   "source": [
    "max_seq_len = 500\n",
    "Plot_Ejemplo = pad_sequences(Text, maxlen=max_seq_len, padding='post')"
   ]
  },
  {
   "cell_type": "code",
   "execution_count": 250,
   "metadata": {},
   "outputs": [
    {
     "name": "stdout",
     "output_type": "stream",
     "text": [
      "\u001b[1m1/1\u001b[0m \u001b[32m━━━━━━━━━━━━━━━━━━━━\u001b[0m\u001b[37m\u001b[0m \u001b[1m0s\u001b[0m 121ms/step\n"
     ]
    }
   ],
   "source": [
    "valores= model.predict(Plot_Ejemplo)"
   ]
  },
  {
   "cell_type": "code",
   "execution_count": 251,
   "metadata": {},
   "outputs": [
    {
     "name": "stdout",
     "output_type": "stream",
     "text": [
      "\u001b[1m1/1\u001b[0m \u001b[32m━━━━━━━━━━━━━━━━━━━━\u001b[0m\u001b[37m\u001b[0m \u001b[1m0s\u001b[0m 114ms/step\n"
     ]
    }
   ],
   "source": [
    "# Combinar los dos arrays\n",
    "valores= model.predict(Plot_Ejemplo)\n",
    "probabilidad= valores[0]\n",
    "generos= dataTraining_exploded['genres'].unique()\n",
    "combinados = list(zip(generos, probabilidad))\n",
    "# Encontrar el género con la probabilidad más alta\n",
    "generos_max_probabilidades = sorted(combinados, key=lambda x: x[1], reverse=True)[:3]"
   ]
  },
  {
   "cell_type": "code",
   "execution_count": 253,
   "metadata": {},
   "outputs": [
    {
     "data": {
      "text/plain": [
       "[('Action', 0.58583987), ('News', 0.3208802), ('Horror', 0.16855434)]"
      ]
     },
     "execution_count": 253,
     "metadata": {},
     "output_type": "execute_result"
    }
   ],
   "source": [
    "generos_max_probabilidades"
   ]
  },
  {
   "cell_type": "code",
   "execution_count": 49,
   "metadata": {},
   "outputs": [
    {
     "data": {
      "text/plain": [
       "['C:\\\\Users\\\\userml\\\\Documents\\\\Proyecto 2\\\\model.pkl\\\\model.pkl']"
      ]
     },
     "execution_count": 49,
     "metadata": {},
     "output_type": "execute_result"
    }
   ],
   "source": [
    "# Exportar modelo a archivo binario .pkl\n",
    "import joblib\n",
    "\n",
    "#joblib.dump(clf, r'C:\\Users\\userml\\Documents\\proyecto2\\clf.pkl', compress=3)\n",
    "\n",
    "import os\n",
    "\n",
    "# Crear el directorio si no existe\n",
    "output_dir = r'C:\\Users\\userml\\Documents\\Proyecto 2\\model.pkl'\n",
    "if not os.path.exists(output_dir):\n",
    "    os.makedirs(output_dir)\n",
    "    \n",
    "# Guardar el modelo en el archivo .pkl\n",
    "joblib.dump(model, os.path.join(output_dir, 'model.pkl'), compress=3)"
   ]
  },
  {
   "cell_type": "code",
   "execution_count": null,
   "metadata": {},
   "outputs": [
    {
     "name": "stdout",
     "output_type": "stream",
     "text": [
      " * Serving Flask app '__main__'\n",
      " * Debug mode: on\n"
     ]
    },
    {
     "name": "stderr",
     "output_type": "stream",
     "text": [
      "WARNING: This is a development server. Do not use it in a production deployment. Use a production WSGI server instead.\n",
      " * Running on all addresses (0.0.0.0)\n",
      " * Running on http://127.0.0.1:5000\n",
      " * Running on http://10.0.0.4:5000\n",
      "Press CTRL+C to quit\n",
      "10.0.0.4 - - [27/May/2024 05:42:08] \"GET / HTTP/1.1\" 200 -\n",
      "10.0.0.4 - - [27/May/2024 05:42:08] \"GET /swaggerui/droid-sans.css HTTP/1.1\" 304 -\n",
      "10.0.0.4 - - [27/May/2024 05:42:08] \"GET /swaggerui/swagger-ui.css HTTP/1.1\" 304 -\n",
      "10.0.0.4 - - [27/May/2024 05:42:08] \"GET /swaggerui/swagger-ui-bundle.js HTTP/1.1\" 304 -\n",
      "10.0.0.4 - - [27/May/2024 05:42:08] \"GET /swaggerui/swagger-ui-standalone-preset.js HTTP/1.1\" 304 -\n",
      "10.0.0.4 - - [27/May/2024 05:42:09] \"GET /swagger.json HTTP/1.1\" 200 -\n"
     ]
    },
    {
     "name": "stdout",
     "output_type": "stream",
     "text": [
      "\u001b[1m1/1\u001b[0m \u001b[32m━━━━━━━━━━━━━━━━━━━━\u001b[0m\u001b[37m\u001b[0m \u001b[1m0s\u001b[0m 119ms/step\n"
     ]
    },
    {
     "name": "stderr",
     "output_type": "stream",
     "text": [
      "10.0.0.4 - - [27/May/2024 05:43:15] \"GET /predict/?Plot=a%20serial%20killer%20decides%20to%20teach%20the%20secrets%20of%20his%20satisfying%20career%20to%20a%20video%20store%20clerk. HTTP/1.1\" 200 -\n"
     ]
    },
    {
     "name": "stdout",
     "output_type": "stream",
     "text": [
      "\u001b[1m1/1\u001b[0m \u001b[32m━━━━━━━━━━━━━━━━━━━━\u001b[0m\u001b[37m\u001b[0m \u001b[1m0s\u001b[0m 118ms/step\n"
     ]
    },
    {
     "name": "stderr",
     "output_type": "stream",
     "text": [
      "10.0.0.4 - - [27/May/2024 05:44:55] \"GET /predict/?Plot=who%20meets%20by%20fate%20,%20%20shall%20be%20sealed%20by%20fate%20.%20%20theresa%20osborne%20is%20running%20along%20the%20beach%20when%20she%20stumbles%20upon%20a%20bottle%20washed%20up%20on%20the%20shore%20.%20%20inside%20is%20a%20message%20,%20%20reading%20the%20letter%20she%20feels%20so%20moved%20and%20yet%20she%20felt%20as%20if%20she%20has%20violated%20someone%20'%20s%20thoughts%20.%20%20in%20love%20with%20a%20man%20she%20has%20never%20met%20,%20%20theresa%20tracks%20down%20the%20author%20of%20the%20letter%20to%20a%20small%20town%20in%20wilmington%20,%20%20two%20lovers%20with%20crossed%20paths%20.%20%20but%20yet%20one%20can%20'%20t%20let%20go%20of%20their%20past. HTTP/1.1\" 200 -\n"
     ]
    },
    {
     "name": "stdout",
     "output_type": "stream",
     "text": [
      "\u001b[1m1/1\u001b[0m \u001b[32m━━━━━━━━━━━━━━━━━━━━\u001b[0m\u001b[37m\u001b[0m \u001b[1m0s\u001b[0m 113ms/step\n"
     ]
    },
    {
     "name": "stderr",
     "output_type": "stream",
     "text": [
      "10.0.0.4 - - [27/May/2024 05:47:17] \"GET /predict/?Plot=the%20true%20story%20of%20billy%20hayes%20,%20%20an%20american%20college%20student%20who%20is%20caught%20smuggling%20drugs%20out%20of%20turkey%20and%20thrown%20into%20prison.%20 HTTP/1.1\" 200 -\n"
     ]
    },
    {
     "name": "stdout",
     "output_type": "stream",
     "text": [
      "\u001b[1m1/1\u001b[0m \u001b[32m━━━━━━━━━━━━━━━━━━━━\u001b[0m\u001b[37m\u001b[0m \u001b[1m0s\u001b[0m 111ms/step\n"
     ]
    },
    {
     "name": "stderr",
     "output_type": "stream",
     "text": [
      "200.118.62.8 - - [27/May/2024 05:48:04] \"GET /predict/?Plot=a%20young%20woman%20who%20lives%20in%20a%20desert%20trailer%20park%20must%20choose%20between%20caring%20for%20her%20hapless%20father%20and%20sick%20friend%20or%20fulfilling%20her%20own%20destiny%20. HTTP/1.1\" 200 -\n",
      "200.118.62.8 - - [27/May/2024 05:48:15] \"GET / HTTP/1.1\" 200 -\n",
      "200.118.62.8 - - [27/May/2024 05:48:15] \"GET /swaggerui/droid-sans.css HTTP/1.1\" 304 -\n",
      "200.118.62.8 - - [27/May/2024 05:48:15] \"GET /swaggerui/swagger-ui.css HTTP/1.1\" 304 -\n",
      "200.118.62.8 - - [27/May/2024 05:48:15] \"GET /swaggerui/swagger-ui-bundle.js HTTP/1.1\" 304 -\n",
      "200.118.62.8 - - [27/May/2024 05:48:15] \"GET /swaggerui/swagger-ui-standalone-preset.js HTTP/1.1\" 304 -\n",
      "200.118.62.8 - - [27/May/2024 05:48:16] \"GET /swagger.json HTTP/1.1\" 200 -\n",
      "200.118.62.8 - - [27/May/2024 05:48:16] \"GET /swaggerui/favicon-32x32.png HTTP/1.1\" 304 -\n",
      "186.155.19.235 - - [27/May/2024 05:48:19] \"GET / HTTP/1.1\" 200 -\n",
      "186.155.19.235 - - [27/May/2024 05:48:19] \"GET /swaggerui/droid-sans.css HTTP/1.1\" 200 -\n",
      "186.155.19.235 - - [27/May/2024 05:48:19] \"GET /swaggerui/swagger-ui.css HTTP/1.1\" 200 -\n",
      "186.155.19.235 - - [27/May/2024 05:48:19] \"GET /swaggerui/swagger-ui-bundle.js HTTP/1.1\" 200 -\n",
      "186.155.19.235 - - [27/May/2024 05:48:19] \"GET /swaggerui/swagger-ui-standalone-preset.js HTTP/1.1\" 200 -\n",
      "186.155.19.235 - - [27/May/2024 05:48:23] \"GET /swagger.json HTTP/1.1\" 200 -\n",
      "186.155.19.235 - - [27/May/2024 05:48:23] \"GET /swaggerui/favicon-32x32.png HTTP/1.1\" 200 -\n"
     ]
    },
    {
     "name": "stdout",
     "output_type": "stream",
     "text": [
      "\u001b[1m1/1\u001b[0m \u001b[32m━━━━━━━━━━━━━━━━━━━━\u001b[0m\u001b[37m\u001b[0m \u001b[1m0s\u001b[0m 111ms/step\n"
     ]
    },
    {
     "name": "stderr",
     "output_type": "stream",
     "text": [
      "200.118.62.8 - - [27/May/2024 05:48:36] \"GET /predict/?Plot=a%20young%20woman%20who%20lives%20in%20a%20desert%20trailer%20park%20must%20choose%20between%20caring%20for%20her%20hapless%20father%20and%20sick%20friend%20or%20fulfilling%20her%20own%20destiny%20. HTTP/1.1\" 200 -\n"
     ]
    },
    {
     "name": "stdout",
     "output_type": "stream",
     "text": [
      "\u001b[1m1/1\u001b[0m \u001b[32m━━━━━━━━━━━━━━━━━━━━\u001b[0m\u001b[37m\u001b[0m \u001b[1m0s\u001b[0m 108ms/step\n"
     ]
    },
    {
     "name": "stderr",
     "output_type": "stream",
     "text": [
      "200.118.62.8 - - [27/May/2024 05:49:16] \"GET /predict/?Plot=a%20young%20woman%20who%20lives%20in%20a%20desert%20trailer%20park%20must%20choose%20between%20caring%20for%20her%20hapless%20father%20and%20sick%20friend%20or%20fulfilling%20her%20own%20destiny%20. HTTP/1.1\" 200 -\n",
      "200.118.62.8 - - [27/May/2024 05:49:24] \"GET / HTTP/1.1\" 200 -\n",
      "200.118.62.8 - - [27/May/2024 05:49:24] \"GET /swaggerui/droid-sans.css HTTP/1.1\" 304 -\n",
      "200.118.62.8 - - [27/May/2024 05:49:25] \"GET /swaggerui/swagger-ui.css HTTP/1.1\" 304 -\n",
      "200.118.62.8 - - [27/May/2024 05:49:25] \"GET /swaggerui/swagger-ui-bundle.js HTTP/1.1\" 304 -\n",
      "200.118.62.8 - - [27/May/2024 05:49:40] \"GET /swaggerui/swagger-ui-standalone-preset.js HTTP/1.1\" 304 -\n",
      "200.118.62.8 - - [27/May/2024 05:49:55] \"GET /swagger.json HTTP/1.1\" 200 -\n",
      "200.118.62.8 - - [27/May/2024 05:49:55] \"GET /swaggerui/favicon-32x32.png HTTP/1.1\" 304 -\n"
     ]
    }
   ],
   "source": [
    "from flask import Flask\n",
    "from flask_restx import Api, Resource, fields\n",
    "import joblib\n",
    "\n",
    "app = Flask(__name__)\n",
    "\n",
    "api = Api(\n",
    "    app, \n",
    "    version='1.0', \n",
    "    title='API Clasificador de Generos',\n",
    "    description='API clasificador de genero de peliculas basado en la descripcion de la misma'\n",
    ")\n",
    "\n",
    "ns = api.namespace('predict', \n",
    "     description='Clasificador de Generos')\n",
    "   \n",
    "parser = api.parser()\n",
    "\n",
    "parser.add_argument('Plot', type=str, required=True, help='Description of the movie')\n",
    "\n",
    "\n",
    "output_fields = api.model('Output', {\n",
    "    'Generos': fields.List(fields.String, description='Predicciones de géneros para la película.')\n",
    "})\n",
    "\n",
    "\n",
    "\n",
    "# Función de limpieza de texto\n",
    "def clean_text(text):\n",
    "    # Convertir todas las palabras a minúsculas\n",
    "    text = text.lower()\n",
    "    # Eliminar los signos de puntuación y los números\n",
    "    text = re.sub(r'\\s+([^\\w\\s])', r'\\1', text)\n",
    "    return text\n",
    "    \n",
    "@ns.route('/')\n",
    "class peliculasApi(Resource):\n",
    "\n",
    "    @api.doc(parser=parser)\n",
    "    @api.marshal_with(output_fields)\n",
    "    def get(self):\n",
    "        \n",
    "        # Obtener los datos de entrada de la solicitud\n",
    "        data = parser.parse_args()\n",
    "\n",
    "        \n",
    "        # Extraer y limpiar el valor del parámetro\n",
    "        plot = data['Plot']\n",
    "        df = pd.DataFrame({'plot': [plot]})\n",
    "        df['Plot_Cleaned'] = df['plot'].apply(clean_text)\n",
    "        \n",
    "\n",
    "        # Transformar el texto usando el tokenize\n",
    "        Text = tokenizer.texts_to_sequences(df['Plot_Cleaned'])\n",
    "        max_seq_len = 500\n",
    "        Plot_Final = pad_sequences(Text, maxlen=max_seq_len, padding='post')\n",
    "\n",
    "        \n",
    "        # Predecir el género usando el clasificador\n",
    "        valores= model.predict(Plot_Final)[0]\n",
    "        dataTraining_exploded = dataTraining.explode('genres')\n",
    "        generos= dataTraining_exploded['genres'].unique()\n",
    "        combinados = list(zip(generos, valores))\n",
    "        generos_max_probabilidades = sorted(combinados, key=lambda x: x[1], reverse=True)[:3]\n",
    "\n",
    "        generos_max_probabilidades_nombres = [genero for genero, probabilidad in generos_max_probabilidades]\n",
    "\n",
    "        \n",
    "\n",
    "        return {\n",
    "            \"Generos\": generos_max_probabilidades_nombres\n",
    "        }, 200\n",
    "\n",
    "if __name__ == '__main__':\n",
    "    app.run(debug=True, use_reloader=False, host='0.0.0.0', port=5000)\n",
    "\n",
    "        "
   ]
  }
 ],
 "metadata": {
  "kernelspec": {
   "display_name": "Python 3 (ipykernel)",
   "language": "python",
   "name": "python3"
  },
  "language_info": {
   "codemirror_mode": {
    "name": "ipython",
    "version": 3
   },
   "file_extension": ".py",
   "mimetype": "text/x-python",
   "name": "python",
   "nbconvert_exporter": "python",
   "pygments_lexer": "ipython3",
   "version": "3.12.3"
  }
 },
 "nbformat": 4,
 "nbformat_minor": 4
}
