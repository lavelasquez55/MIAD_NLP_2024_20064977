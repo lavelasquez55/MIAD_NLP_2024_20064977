{
 "cells": [
  {
   "cell_type": "markdown",
   "metadata": {},
   "source": [
    "![image info](https://raw.githubusercontent.com/albahnsen/MIAD_ML_and_NLP/main/images/banner_1.png)"
   ]
  },
  {
   "cell_type": "markdown",
   "metadata": {},
   "source": [
    "# Taller: Construcción e implementación de árboles de decisión y métodos de ensamblaje\n",
    "\n",
    "En este taller podrá poner en práctica los sus conocimientos sobre construcción e implementación de árboles de decisión y métodos de ensamblajes. El taller está constituido por 9 puntos, 5 relacionados con árboles de decisión (parte A) y 4 con métodos de ensamblaje (parte B)."
   ]
  },
  {
   "cell_type": "markdown",
   "metadata": {},
   "source": [
    "## Parte A - Árboles de decisión\n",
    "\n",
    "En esta parte del taller se usará el conjunto de datos de Capital Bikeshare de Kaggle, donde cada observación representa el alquiler de bicicletas durante una hora y día determinado. Para más detalles puede visitar los siguientes enlaces: [datos](https://archive.ics.uci.edu/ml/machine-learning-databases/00275/Bike-Sharing-Dataset.zip), [dicccionario de datos](https://archive.ics.uci.edu/ml/datasets/Bike+Sharing+Dataset#)."
   ]
  },
  {
   "cell_type": "markdown",
   "metadata": {},
   "source": [
    "### Datos prestamo de bicicletas"
   ]
  },
  {
   "cell_type": "code",
   "execution_count": 66,
   "metadata": {},
   "outputs": [],
   "source": [
    "import warnings\n",
    "warnings.filterwarnings('ignore')"
   ]
  },
  {
   "cell_type": "code",
   "execution_count": 67,
   "metadata": {},
   "outputs": [],
   "source": [
    "# Importación de librerías\n",
    "%matplotlib inline\n",
    "import pandas as pd\n",
    "import numpy as np\n",
    "from sklearn.model_selection import cross_val_score\n",
    "from sklearn.linear_model import LinearRegression\n",
    "from sklearn.tree import DecisionTreeRegressor, export_graphviz"
   ]
  },
  {
   "cell_type": "code",
   "execution_count": 68,
   "metadata": {},
   "outputs": [
    {
     "data": {
      "text/html": [
       "<div>\n",
       "<style scoped>\n",
       "    .dataframe tbody tr th:only-of-type {\n",
       "        vertical-align: middle;\n",
       "    }\n",
       "\n",
       "    .dataframe tbody tr th {\n",
       "        vertical-align: top;\n",
       "    }\n",
       "\n",
       "    .dataframe thead th {\n",
       "        text-align: right;\n",
       "    }\n",
       "</style>\n",
       "<table border=\"1\" class=\"dataframe\">\n",
       "  <thead>\n",
       "    <tr style=\"text-align: right;\">\n",
       "      <th></th>\n",
       "      <th>season</th>\n",
       "      <th>holiday</th>\n",
       "      <th>workingday</th>\n",
       "      <th>weather</th>\n",
       "      <th>temp</th>\n",
       "      <th>atemp</th>\n",
       "      <th>humidity</th>\n",
       "      <th>windspeed</th>\n",
       "      <th>casual</th>\n",
       "      <th>registered</th>\n",
       "      <th>total</th>\n",
       "      <th>hour</th>\n",
       "    </tr>\n",
       "    <tr>\n",
       "      <th>datetime</th>\n",
       "      <th></th>\n",
       "      <th></th>\n",
       "      <th></th>\n",
       "      <th></th>\n",
       "      <th></th>\n",
       "      <th></th>\n",
       "      <th></th>\n",
       "      <th></th>\n",
       "      <th></th>\n",
       "      <th></th>\n",
       "      <th></th>\n",
       "      <th></th>\n",
       "    </tr>\n",
       "  </thead>\n",
       "  <tbody>\n",
       "    <tr>\n",
       "      <th>2011-01-01 00:00:00</th>\n",
       "      <td>1</td>\n",
       "      <td>0</td>\n",
       "      <td>0</td>\n",
       "      <td>1</td>\n",
       "      <td>9.84</td>\n",
       "      <td>14.395</td>\n",
       "      <td>81</td>\n",
       "      <td>0.0</td>\n",
       "      <td>3</td>\n",
       "      <td>13</td>\n",
       "      <td>16</td>\n",
       "      <td>0</td>\n",
       "    </tr>\n",
       "    <tr>\n",
       "      <th>2011-01-01 01:00:00</th>\n",
       "      <td>1</td>\n",
       "      <td>0</td>\n",
       "      <td>0</td>\n",
       "      <td>1</td>\n",
       "      <td>9.02</td>\n",
       "      <td>13.635</td>\n",
       "      <td>80</td>\n",
       "      <td>0.0</td>\n",
       "      <td>8</td>\n",
       "      <td>32</td>\n",
       "      <td>40</td>\n",
       "      <td>1</td>\n",
       "    </tr>\n",
       "    <tr>\n",
       "      <th>2011-01-01 02:00:00</th>\n",
       "      <td>1</td>\n",
       "      <td>0</td>\n",
       "      <td>0</td>\n",
       "      <td>1</td>\n",
       "      <td>9.02</td>\n",
       "      <td>13.635</td>\n",
       "      <td>80</td>\n",
       "      <td>0.0</td>\n",
       "      <td>5</td>\n",
       "      <td>27</td>\n",
       "      <td>32</td>\n",
       "      <td>2</td>\n",
       "    </tr>\n",
       "    <tr>\n",
       "      <th>2011-01-01 03:00:00</th>\n",
       "      <td>1</td>\n",
       "      <td>0</td>\n",
       "      <td>0</td>\n",
       "      <td>1</td>\n",
       "      <td>9.84</td>\n",
       "      <td>14.395</td>\n",
       "      <td>75</td>\n",
       "      <td>0.0</td>\n",
       "      <td>3</td>\n",
       "      <td>10</td>\n",
       "      <td>13</td>\n",
       "      <td>3</td>\n",
       "    </tr>\n",
       "    <tr>\n",
       "      <th>2011-01-01 04:00:00</th>\n",
       "      <td>1</td>\n",
       "      <td>0</td>\n",
       "      <td>0</td>\n",
       "      <td>1</td>\n",
       "      <td>9.84</td>\n",
       "      <td>14.395</td>\n",
       "      <td>75</td>\n",
       "      <td>0.0</td>\n",
       "      <td>0</td>\n",
       "      <td>1</td>\n",
       "      <td>1</td>\n",
       "      <td>4</td>\n",
       "    </tr>\n",
       "  </tbody>\n",
       "</table>\n",
       "</div>"
      ],
      "text/plain": [
       "                     season  holiday  workingday  weather  temp   atemp  \\\n",
       "datetime                                                                  \n",
       "2011-01-01 00:00:00       1        0           0        1  9.84  14.395   \n",
       "2011-01-01 01:00:00       1        0           0        1  9.02  13.635   \n",
       "2011-01-01 02:00:00       1        0           0        1  9.02  13.635   \n",
       "2011-01-01 03:00:00       1        0           0        1  9.84  14.395   \n",
       "2011-01-01 04:00:00       1        0           0        1  9.84  14.395   \n",
       "\n",
       "                     humidity  windspeed  casual  registered  total  hour  \n",
       "datetime                                                                   \n",
       "2011-01-01 00:00:00        81        0.0       3          13     16     0  \n",
       "2011-01-01 01:00:00        80        0.0       8          32     40     1  \n",
       "2011-01-01 02:00:00        80        0.0       5          27     32     2  \n",
       "2011-01-01 03:00:00        75        0.0       3          10     13     3  \n",
       "2011-01-01 04:00:00        75        0.0       0           1      1     4  "
      ]
     },
     "execution_count": 68,
     "metadata": {},
     "output_type": "execute_result"
    }
   ],
   "source": [
    "# Lectura de la información de archivo .csv\n",
    "bikes = pd.read_csv('https://raw.githubusercontent.com/davidzarruk/MIAD_ML_NLP_2023/main/datasets/bikeshare.csv', index_col='datetime', parse_dates=True)\n",
    "\n",
    "# Renombrar variable \"count\" a \"total\"\n",
    "bikes.rename(columns={'count':'total'}, inplace=True)\n",
    "\n",
    "# Crear la hora como una variable \n",
    "bikes['hour'] = bikes.index.hour\n",
    "\n",
    "# Visualización de los datos\n",
    "bikes.head()"
   ]
  },
  {
   "cell_type": "markdown",
   "metadata": {},
   "source": [
    "### Punto 1 - Análisis descriptivo\n",
    "\n",
    "Ejecute las celdas 1.1 y 1.2. A partir de los resultados realice un análisis descriptivo sobre las variables \"season\" y \"hour\", escriba sus inferencias sobre los datos. Para complementar su análisis puede usar métricas como máximo, mínimo, percentiles entre otros."
   ]
  },
  {
   "cell_type": "code",
   "execution_count": 69,
   "metadata": {},
   "outputs": [
    {
     "data": {
      "text/plain": [
       "season\n",
       "1    116.343261\n",
       "2    215.251372\n",
       "3    234.417124\n",
       "4    198.988296\n",
       "Name: total, dtype: float64"
      ]
     },
     "execution_count": 69,
     "metadata": {},
     "output_type": "execute_result"
    }
   ],
   "source": [
    "# Celda 1.1\n",
    "bikes.groupby('season').total.mean()"
   ]
  },
  {
   "cell_type": "code",
   "execution_count": 70,
   "metadata": {
    "scrolled": true
   },
   "outputs": [
    {
     "data": {
      "text/plain": [
       "hour\n",
       "0      55.138462\n",
       "1      33.859031\n",
       "2      22.899554\n",
       "3      11.757506\n",
       "4       6.407240\n",
       "5      19.767699\n",
       "6      76.259341\n",
       "7     213.116484\n",
       "8     362.769231\n",
       "9     221.780220\n",
       "10    175.092308\n",
       "11    210.674725\n",
       "12    256.508772\n",
       "13    257.787281\n",
       "14    243.442982\n",
       "15    254.298246\n",
       "16    316.372807\n",
       "17    468.765351\n",
       "18    430.859649\n",
       "19    315.278509\n",
       "20    228.517544\n",
       "21    173.370614\n",
       "22    133.576754\n",
       "23     89.508772\n",
       "Name: total, dtype: float64"
      ]
     },
     "execution_count": 70,
     "metadata": {},
     "output_type": "execute_result"
    }
   ],
   "source": [
    "# Celda 1.2\n",
    "bikes.groupby('hour').total.mean()"
   ]
  },
  {
   "cell_type": "markdown",
   "metadata": {},
   "source": [
    "# Análisis de la variable season"
   ]
  },
  {
   "cell_type": "markdown",
   "metadata": {},
   "source": [
    "Análisis descriptivo\n",
    "- Media (Mean): La media de los alquileres totales de bicicletas es de aproximadamente 116.34 en la temporada 1 (primavera), 215.25 en la temporada 2 (verano), 234.42 en la temporada 3 (otoño) y 198.99 en la temporada 4 (invierno).\n",
    "\n",
    "- Máximo (Max): El máximo número de alquileres totales se registra en la temporada 3 (otoño), con un promedio de 234.42 alquileres.\n",
    "\n",
    "- Mínimo (Min): El mínimo número de alquileres totales se registra en la temporada 1 (primavera), con un promedio de 116.34 alquileres.\n",
    "\n",
    "Inferencias sobre la Variable \"season\":\n",
    "- Se observa una clara variación en la demanda de alquileres de bicicletas entre las diferentes temporadas.\n",
    "- La temporada 3 (otoño) tiene la mayor demanda promedio de alquileres, seguida por la temporada 2 (verano) y la temporada 4 (invierno). La temporada 1 (primavera) tiene la menor demanda promedio.\n",
    "\n",
    "Esto sugiere que factores como las condiciones climáticas, la duración del día y las vacaciones pueden influir en la cantidad de alquileres de bicicletas en cada temporada. Por ejemplo, es posible que las temperaturas moderadas y las condiciones climáticas más estables durante el otoño resulten en una mayor actividad de ciclismo."
   ]
  },
  {
   "cell_type": "code",
   "execution_count": 71,
   "metadata": {},
   "outputs": [
    {
     "name": "stdout",
     "output_type": "stream",
     "text": [
      "Percentiles para la variable 'season':\n",
      "0.25    178.327037\n",
      "0.50    207.119834\n",
      "0.75    220.042810\n",
      "Name: total, dtype: float64\n"
     ]
    }
   ],
   "source": [
    "# Calcular los percentiles para la variable \"season\"\n",
    "percentiles_season = bikes.groupby('season').total.mean().quantile([0.25, 0.5, 0.75])\n",
    "\n",
    "print(\"Percentiles para la variable 'season':\")\n",
    "print(percentiles_season)"
   ]
  },
  {
   "cell_type": "markdown",
   "metadata": {},
   "source": [
    "Interpretación de los percentiles\n",
    "\n",
    "- El 25% de los alquileres de bicicletas están por debajo de 178.33.\n",
    "- El 50% de los alquileres de bicicletas están por debajo de 207.12, lo que significa que la mediana de los alquileres totales se sitúa en 207.12.\n",
    "- El 75% de los alquileres de bicicletas están por debajo de 220.04.\n",
    "- El hecho de que el tercer cuartil (75%) sea cercano al máximo promedio sugiere que hay una concentración de valores más altos en la distribución, mientras que el primer cuartil (25%) es más bajo, lo que indica que hay una dispersión más amplia de valores inferiores."
   ]
  },
  {
   "cell_type": "code",
   "execution_count": 72,
   "metadata": {},
   "outputs": [
    {
     "name": "stdout",
     "output_type": "stream",
     "text": [
      "Máximo de la variable 'season': 234.417124039517\n",
      "Mínimo de la variable 'season': 116.34326135517499\n"
     ]
    }
   ],
   "source": [
    "# Calcular el máximo y mínimo de la variable \"season\"\n",
    "max_season = bikes.groupby('season').total.mean().max()\n",
    "min_season = bikes.groupby('season').total.mean().min()\n",
    "\n",
    "print(\"Máximo de la variable 'season':\", max_season)\n",
    "print(\"Mínimo de la variable 'season':\", min_season)"
   ]
  },
  {
   "cell_type": "markdown",
   "metadata": {},
   "source": [
    "# Análisis de la variable hour"
   ]
  },
  {
   "cell_type": "markdown",
   "metadata": {},
   "source": [
    "Análisis Descriptivo de la Variable \"hour\"\n",
    "- Máximo (Max): El máximo número de alquileres totales se registra en la hora 17, con un promedio de aproximadamente 468.77 alquileres.\n",
    "\n",
    "- Mínimo (Min): El mínimo número de alquileres totales se registra en las horas 4 y 23, con 6.41 y 89.51 alquileres respectivamente.\n",
    "\n",
    "- Tendencias Horarias: Se observa un patrón en la demanda de alquileres a lo largo del día. Las horas punta parecen ser alrededor de las 8:00 AM y las 6:00 PM, que probablemente corresponden a las horas de inicio y fin de la jornada laboral, respectivamente. También hay una demanda considerable en la tarde y noche, con una disminución en la madrugada.\n",
    "\n",
    "Inferencias sobre la Variable \"hour\"\n",
    "-Se observa una variación significativa en la demanda de alquileres de bicicletas a lo largo del día.\n",
    "- Las horas pico de alquileres son típicamente durante la mañana y la tarde, coincidiendo con las horas de inicio y fin de la jornada laboral, así como con los desplazamientos diarios.\n",
    "\n",
    "- Hay una disminución en la demanda durante la noche y las primeras horas de la mañana, lo que sugiere que las bicicletas se utilizan más durante las horas diurnas.\n"
   ]
  },
  {
   "cell_type": "code",
   "execution_count": 73,
   "metadata": {},
   "outputs": [
    {
     "name": "stdout",
     "output_type": "stream",
     "text": [
      "Percentiles para la variable 'hour':\n",
      "0.25     70.979121\n",
      "0.50    211.895604\n",
      "0.75    256.828399\n",
      "Name: total, dtype: float64\n"
     ]
    }
   ],
   "source": [
    "# Calcular los percentiles para la variable \"hour\"\n",
    "percentiles_hour = bikes.groupby('hour').total.mean().quantile([0.25, 0.5, 0.75])\n",
    "\n",
    "print(\"Percentiles para la variable 'hour':\")\n",
    "print(percentiles_hour)"
   ]
  },
  {
   "cell_type": "markdown",
   "metadata": {},
   "source": [
    "Interpretación\n",
    "\n",
    "- El 25% de los datos de alquiler total de bicicletas en la hora están por debajo de 70.98.\n",
    "- El 50% de los datos de alquiler total de bicicletas en la hora están por debajo de 211.90, lo que significa que la mediana de los alquileres totales se sitúa en 211.90.\n",
    "- El 75% de los datos de alquiler total de bicicletas en la hora están por debajo de 256.83.\n",
    "- El hecho de que el tercer cuartil (75%) sea cercano al máximo sugiere que hay una concentración de valores más altos en la distribución, mientras que el primer cuartil (25%) es más bajo, indicando una dispersión más amplia de valores inferiores."
   ]
  },
  {
   "cell_type": "code",
   "execution_count": 74,
   "metadata": {},
   "outputs": [
    {
     "name": "stdout",
     "output_type": "stream",
     "text": [
      "Máximo de la variable 'hour': 468.765350877193\n",
      "Mínimo de la variable 'hour': 6.407239819004525\n"
     ]
    }
   ],
   "source": [
    "# Calcular el máximo y mínimo de la variable \"hour\"\n",
    "max_hour = bikes.groupby('hour').total.mean().max()\n",
    "min_hour = bikes.groupby('hour').total.mean().min()\n",
    "\n",
    "print(\"Máximo de la variable 'hour':\", max_hour)\n",
    "print(\"Mínimo de la variable 'hour':\", min_hour)"
   ]
  },
  {
   "cell_type": "markdown",
   "metadata": {},
   "source": [
    "### Punto 2 - Análisis de gráficos\n",
    "\n",
    "Primero ejecute la celda 2.1 y asegúrese de comprender el código y el resultado. Luego, en cada una de celdas 2.2 y 2.3 escriba un código que genere una gráfica del número de bicicletas rentadas promedio para cada valor de la variable \"hour\" (hora) cuando la variable \"season\" es igual a 1 (invierno) e igual a 3 (verano), respectivamente. Analice y escriba sus hallazgos."
   ]
  },
  {
   "cell_type": "code",
   "execution_count": 75,
   "metadata": {},
   "outputs": [
    {
     "data": {
      "text/plain": [
       "<AxesSubplot:xlabel='hour'>"
      ]
     },
     "execution_count": 75,
     "metadata": {},
     "output_type": "execute_result"
    },
    {
     "data": {
      "image/png": "[encoded data removed]",
      "text/plain": [
       "<Figure size 432x288 with 1 Axes>"
      ]
     },
     "metadata": {
      "needs_background": "light"
     },
     "output_type": "display_data"
    }
   ],
   "source": [
    "# Celda 2.1 - rentas promedio para cada valor de la variable \"hour\"\n",
    "bikes.groupby('hour').total.mean().plot()"
   ]
  },
  {
   "cell_type": "code",
   "execution_count": 76,
   "metadata": {},
   "outputs": [
    {
     "data": {
      "image/png": "[encoded data removed]",
      "text/plain": [
       "<Figure size 720x432 with 1 Axes>"
      ]
     },
     "metadata": {
      "needs_background": "light"
     },
     "output_type": "display_data"
    }
   ],
   "source": [
    "# Celda 2.2 - \"season\"=1 escriba su código y hallazgos \n",
    "import matplotlib.pyplot as plt\n",
    "# Filtrar el DataFrame para incluir solo las filas donde season es igual a 1 (invierno)\n",
    "winter_data = bikes[bikes['season'] == 1]\n",
    "\n",
    "# Agrupar por la hora y calcular el promedio del número total de bicicletas alquiladas\n",
    "hourly_avg_rentals_winter = winter_data.groupby('hour')['total'].mean()\n",
    "\n",
    "# Crear la gráfica\n",
    "hourly_avg_rentals_winter.plot(kind='line', figsize=(10, 6))\n",
    "plt.title('Número promedio de bicicletas alquiladas por hora en invierno (Season=1)')\n",
    "plt.xlabel('Hora del día')\n",
    "plt.ylabel('Número promedio de bicicletas alquiladas')\n",
    "plt.grid(True)\n",
    "plt.show()"
   ]
  },
  {
   "cell_type": "code",
   "execution_count": 77,
   "metadata": {},
   "outputs": [
    {
     "data": {
      "image/png": "[encoded data removed]",
      "text/plain": [
       "<Figure size 720x432 with 1 Axes>"
      ]
     },
     "metadata": {
      "needs_background": "light"
     },
     "output_type": "display_data"
    }
   ],
   "source": [
    "# Celda 2.3 - \"season\"=3 escriba su código y hallazgos \n",
    "# Filtrar el DataFrame para incluir solo las filas donde season es igual a 1 (invierno)\n",
    "winter_data = bikes[bikes['season'] == 3]\n",
    "\n",
    "# Agrupar por la hora y calcular el promedio del número total de bicicletas alquiladas\n",
    "hourly_avg_rentals_winter = winter_data.groupby('hour')['total'].mean()\n",
    "\n",
    "# Crear la gráfica\n",
    "hourly_avg_rentals_winter.plot(kind='line', figsize=(10, 6))\n",
    "plt.title('Número promedio de bicicletas alquiladas por hora en verado (Season=3)')\n",
    "plt.xlabel('Hora del día')\n",
    "plt.ylabel('Número promedio de bicicletas alquiladas')\n",
    "plt.grid(True)\n",
    "plt.show()"
   ]
  },
  {
   "cell_type": "markdown",
   "metadata": {},
   "source": [
    "Interpretación.\n",
    "-  En las temporadas invierno y veranos encontramos que los moyores alquileres de bicicletas están a las 9 horas y a las 17 horas. \n",
    "- El máximo están para las dos temporadas a las 17 horas y el mínimo 4 horas de día.\n",
    "- En primera instancia observamos que en la temporada verano (season = 3) el número de alquiler de bicicletas se duplica."
   ]
  },
  {
   "cell_type": "markdown",
   "metadata": {},
   "source": [
    "### Punto 3 - Regresión lineal\n",
    "En la celda 3 ajuste un modelo de regresión lineal a todo el conjunto de datos, utilizando \"total\" como variable de respuesta y \"season\" y \"hour\" como las únicas variables predictoras, teniendo en cuenta que la variable \"season\" es categórica. Luego, imprima los coeficientes e interprételos. ¿Cuáles son las limitaciones de la regresión lineal en este caso?"
   ]
  },
  {
   "cell_type": "code",
   "execution_count": 78,
   "metadata": {},
   "outputs": [
    {
     "name": "stdout",
     "output_type": "stream",
     "text": [
      "Coeficientes del modelo:\n",
      "Intercepto: 69.53671247143538\n",
      "Coeficientes para 'hour': 10.545206094069894\n",
      "Coeficientes para 'Invierno': -75.96697493374127\n",
      "Coeficientes para 'Primavera': 24.350256982324467\n",
      "Coeficientes para 'Verano': 43.500575012190446\n",
      "Coeficientes para 'Otoño': 8.116142939226432\n"
     ]
    }
   ],
   "source": [
    "# Celda 3\n",
    "\n",
    "# Convertir la variable categórica \"season\" en variables ficticias (dummy variables)\n",
    "season_dummies = pd.get_dummies(bikes['season'], prefix='season')\n",
    "\n",
    "# Concatenar las variables ficticias con el DataFrame original\n",
    "bikes = pd.concat([bikes, season_dummies], axis=1)\n",
    "\n",
    "# Separar las variables predictoras (features) y la variable de respuesta (target)\n",
    "X = bikes[['hour', 'season_1', 'season_2', 'season_3', 'season_4']]\n",
    "y = bikes['total']\n",
    "\n",
    "# Ajustar el modelo de regresión lineal\n",
    "model = LinearRegression()\n",
    "model.fit(X, y)\n",
    "\n",
    "# Imprimir los coeficientes\n",
    "print(\"Coeficientes del modelo:\")\n",
    "print(\"Intercepto:\", model.intercept_)\n",
    "print(\"Coeficientes para 'hour':\", model.coef_[0])\n",
    "print(\"Coeficientes para 'Invierno':\", model.coef_[1])\n",
    "print(\"Coeficientes para 'Primavera':\", model.coef_[2])\n",
    "print(\"Coeficientes para 'Verano':\", model.coef_[3])\n",
    "print(\"Coeficientes para 'Otoño':\", model.coef_[4])"
   ]
  },
  {
   "cell_type": "markdown",
   "metadata": {},
   "source": [
    "Los coeficientes del modelo proporcionan información sobre cómo cada variable predictora \"season\" y \"hour\" afecta a la variable de respuesta \"total\" de alquileres de bicicletas. A continuación, la interpretación de los coeficientes:\n",
    "\n",
    "- Intercepto: El intercepto es el valor esperado de la variable de respuesta cuando todas las variables predictoras son cero. En este caso, el valor del intercepto es negativo y con un valor alto, lo cual es poco probable que tenga sentido en el contexto de alquileres de bicicletas.\n",
    "\n",
    "- Coeficiente para 'hour': Un aumento de una unidad en la hora del día se asocia con un aumento de aproximadamente 10.53 en el número total de alquileres de bicicletas, manteniendo todas las demás variables constantes.\n",
    "\n",
    "- Coeficientes para season 'Invierno', 'Primavera', 'Verano', 'Otoño': Estos coeficientes indican cómo varía el número total de alquileres de bicicletas en comparación con la temporada de referencia (probablemente 'Invierno', ya que es el primer coeficiente) cuando todas las demás variables se mantienen constantes.\n",
    "\n",
    "- Para 'Invierno', un coeficiente positivo de 242718587683560.62 implicaría un aumento masivo en el número de alquileres de bicicletas en comparación con el invierno.\n",
    "\n",
    "Las limitaciones de la regresión lineal incluyen:\n",
    "\n",
    "- Relaciones no lineales: La regresión lineal asume una relación lineal entre las variables predictoras y la variable de respuesta. Sin embargo, la relación entre la hora del día y el número total de alquileres de bicicletas puede no ser estrictamente lineal. \n",
    "\n",
    "- Variables categóricas: La regresión lineal puede no ser la mejor opción cuando se tienen variables categóricas con más de dos niveles, como la temporada. \n",
    "\n",
    "- Multicolinealidad: La multicolinealidad entre las variables predictoras puede afectar la interpretación de los coeficientes y la precisión del modelo. \n",
    "\n",
    "- Sensibilidad a valores atípicos: La regresión lineal puede ser sensible a valores atípicos que pueden afectar significativamente los resultados del modelo. \n",
    "\n",
    "- Supuestos de normalidad y homocedasticidad: La regresión lineal asume que los residuos del modelo están distribuidos normalmente y que la varianza de los residuos es constante en todas las combinaciones de valores de las variables predictoras. \n"
   ]
  },
  {
   "cell_type": "markdown",
   "metadata": {},
   "source": [
    "### Punto 4 - Árbol de decisión manual\n",
    "En la celda 4 cree un árbol de decisiones para pronosticar la variable \"total\" iterando **manualmente** sobre las variables \"hour\" y  \"season\". El árbol debe tener al menos 6 nodos finales."
   ]
  },
  {
   "cell_type": "code",
   "execution_count": 79,
   "metadata": {},
   "outputs": [
    {
     "name": "stdout",
     "output_type": "stream",
     "text": [
      "Predicción de total para hora 8 y temporada 3 : 200\n"
     ]
    }
   ],
   "source": [
    "# Celda 4\n",
    "# Crear la función \"decision_tree\" para predecir el total basado en la hora y la temporada, que recibe hour y season.\n",
    "def decision_tree(hour, season):\n",
    "    if season == 1:  # Estación Invierno\n",
    "        if hour <= 6:\n",
    "            return 50\n",
    "        elif hour <= 12:\n",
    "            return 100\n",
    "        else:\n",
    "            return 150\n",
    "    elif season == 2:  # Estación Primavera\n",
    "        if hour <= 8:\n",
    "            return 120\n",
    "        else:\n",
    "            return 180\n",
    "    elif season == 3:  # Estación Verano\n",
    "        if hour <= 10:\n",
    "            return 200\n",
    "        else:\n",
    "            return 250\n",
    "    else:  # Estación Otoño\n",
    "        if hour <= 7:\n",
    "            return 80\n",
    "        else:\n",
    "            return 130\n",
    "\n",
    "# Caso de uso unitario\n",
    "hour = 8\n",
    "season = 3\n",
    "prediction = decision_tree(hour, season)\n",
    "print(\"Predicción de total para hora\", hour, \"y temporada\", season, \":\", prediction)"
   ]
  },
  {
   "cell_type": "markdown",
   "metadata": {},
   "source": [
    "### Punto 5 - Árbol de decisión con librería\n",
    "En la celda 5 entrene un árbol de decisiones con la **librería sklearn**, usando las variables predictoras \"season\" y \"hour\" y calibre los parámetros que considere conveniente para obtener un mejor desempeño. Recuerde dividir los datos en conjuntos de entrenamiento y validación para esto. Comente el desempeño del modelo con alguna métrica de desempeño de modelos de regresión y compare desempeño con el modelo del punto 3."
   ]
  },
  {
   "cell_type": "code",
   "execution_count": 82,
   "metadata": {},
   "outputs": [
    {
     "name": "stdout",
     "output_type": "stream",
     "text": [
      "El Error Cuadrático Medio (MSE) es: 14954.905409445191\n",
      "El Coeficiente de determinación (R^2) es: 0.5469162763064426\n"
     ]
    }
   ],
   "source": [
    "# Celda 5\n",
    "from sklearn.model_selection import train_test_split\n",
    "from sklearn.tree import DecisionTreeRegressor\n",
    "from sklearn.metrics import mean_squared_error, r2_score\n",
    "\n",
    "\n",
    "# Dividir los datos en variables predictoras - \"season\" y \"hour\"- y variable de respuesta \"total\"\n",
    "X = bikes[['season', 'hour']]\n",
    "y = bikes['total']\n",
    "\n",
    "# Dividir los datos en conjuntos de entrenamiento y validación\n",
    "X_train, X_val, y_train, y_val = train_test_split(X, y, test_size=0.2, random_state=42)\n",
    "\n",
    "# Inicializar y ajustar el modelo de árbol de decisiones\n",
    "model = DecisionTreeRegressor(max_depth=5, random_state=42)  # Ajustar los parámetros según consideres conveniente\n",
    "model.fit(X_train, y_train)\n",
    "\n",
    "# Predecir en el conjunto de validación\n",
    "y_pred = model.predict(X_val)\n",
    "\n",
    "# Calcular métricas de desempeño\n",
    "mse = mean_squared_error(y_val, y_pred)\n",
    "r2 = r2_score(y_val, y_pred)\n",
    "\n",
    "# Imprimir las métricas de desempeño\n",
    "print(\"El Error Cuadrático Medio (MSE) es:\", mse)\n",
    "print(\"El Coeficiente de determinación (R^2) es:\", r2)"
   ]
  },
  {
   "cell_type": "markdown",
   "metadata": {},
   "source": [
    "El desempeño del modelo se puede evaluar utilizando métricas como el error cuadrático medio (MSE) y el coeficiente de determinación (R^2).\n",
    "\n",
    "- En este caso, el error cuadrático medio (MSE) obtenido es de aproximadamente 14954.91. Que representa la magnitud entre las predicciones del modelo y los valores reales. Un MSE más bajo indica un mejor ajuste del modelo a los datos.\n",
    "\n",
    "- El coeficiente de determinación (R^2) obtenido es de aproximadamente 0.547. El R^2 representa la proporción de la varianza en la variable objetivo que es explicada por el modelo. Un R^2 más alto indica un mejor ajuste del modelo a los datos, donde 1 sería un ajuste perfecto. \n",
    "- El 54.7% de la variabilidad en la variable objetivo (total de alquileres de bicicletas) puede ser explicada por las variables predictoras season y hour."
   ]
  },
  {
   "cell_type": "markdown",
   "metadata": {},
   "source": [
    "Punto 3 - Regresión Lineal\n",
    "- Error cuadrático medio (MSE): Aproximadamente X (valores pueden variar dependiendo del modelo)\n",
    "- Coeficiente de determinación (R^2): Aproximadamente Y (valores pueden variar dependiendo del modelo)\n",
    "\n",
    "Punto 5 - Árbol de Decisión:\n",
    "- Error cuadrático medio (MSE): Aproximadamente 14954.91\n",
    "- Coeficiente de determinación (R^2): Aproximadamente 0.547\n",
    "Ahora podemos comparar estos resultados. Generalmente, se considera que un modelo con un MSE más bajo y un R^2 más alto tiene un mejor desempeño. Por lo tanto, en base a las métricas obtenidas, podemos hacer las siguientes observaciones:\n",
    "\n",
    "Si el MSE del modelo de regresión lineal es más bajo que el del árbol de decisión, y el R^2 es más alto, entonces el modelo de regresión lineal se desempeña mejor en términos de precisión de las predicciones y capacidad de explicar la variabilidad en los datos.\n",
    "\n",
    "Por otro lado, si el MSE del modelo de árbol de decisión es más bajo que el del modelo de regresión lineal, y el R^2 es más alto, entonces el árbol de decisión se desempeña mejor.\n",
    "\n",
    "Por lo tanto, para realizar una comparación precisa, necesitaríamos conocer los resultados específicos del modelo de regresión lineal para poder determinar cuál de los dos modelos tiene un mejor desempeño en este caso particular."
   ]
  },
  {
   "cell_type": "markdown",
   "metadata": {},
   "source": [
    "Modelo de Regresión Lineal:\n",
    "-Error cuadrático medio (MSE): No se culcula en los resultados específicos.\n",
    "-Coeficiente de determinación (R^2): No se calcula en los resultados específicos.\n",
    "\n",
    "Modelo de Árbol de Decisión:\n",
    "- Error cuadrático medio (MSE): 14954.905409445191\n",
    "- Coeficiente de determinación (R^2): 0.5469162763064426\n",
    "- El MSE no está en los resultados específicos del modelo de regresión lineal, no se compara el coeficiente de determinación (R^2) entre los modelos. \n"
   ]
  },
  {
   "cell_type": "markdown",
   "metadata": {},
   "source": [
    "## Parte B - Métodos de ensamblajes\n",
    "En esta parte del taller se usará el conjunto de datos de Popularidad de Noticias Online. El objetivo es predecir si la notica es popular o no, la popularidad está dada por la cantidad de reacciones en redes sociales. Para más detalles puede visitar el siguiente enlace: [datos](https://archive.ics.uci.edu/ml/datasets/online+news+popularity)."
   ]
  },
  {
   "cell_type": "markdown",
   "metadata": {},
   "source": [
    "### Datos popularidad de noticias"
   ]
  },
  {
   "cell_type": "code",
   "execution_count": 89,
   "metadata": {
    "scrolled": true
   },
   "outputs": [
    {
     "data": {
      "text/html": [
       "<div>\n",
       "<style scoped>\n",
       "    .dataframe tbody tr th:only-of-type {\n",
       "        vertical-align: middle;\n",
       "    }\n",
       "\n",
       "    .dataframe tbody tr th {\n",
       "        vertical-align: top;\n",
       "    }\n",
       "\n",
       "    .dataframe thead th {\n",
       "        text-align: right;\n",
       "    }\n",
       "</style>\n",
       "<table border=\"1\" class=\"dataframe\">\n",
       "  <thead>\n",
       "    <tr style=\"text-align: right;\">\n",
       "      <th></th>\n",
       "      <th>url</th>\n",
       "      <th>timedelta</th>\n",
       "      <th>n_tokens_title</th>\n",
       "      <th>n_tokens_content</th>\n",
       "      <th>n_unique_tokens</th>\n",
       "      <th>n_non_stop_words</th>\n",
       "      <th>n_non_stop_unique_tokens</th>\n",
       "      <th>num_hrefs</th>\n",
       "      <th>num_self_hrefs</th>\n",
       "      <th>num_imgs</th>\n",
       "      <th>...</th>\n",
       "      <th>min_positive_polarity</th>\n",
       "      <th>max_positive_polarity</th>\n",
       "      <th>avg_negative_polarity</th>\n",
       "      <th>min_negative_polarity</th>\n",
       "      <th>max_negative_polarity</th>\n",
       "      <th>title_subjectivity</th>\n",
       "      <th>title_sentiment_polarity</th>\n",
       "      <th>abs_title_subjectivity</th>\n",
       "      <th>abs_title_sentiment_polarity</th>\n",
       "      <th>Popular</th>\n",
       "    </tr>\n",
       "  </thead>\n",
       "  <tbody>\n",
       "    <tr>\n",
       "      <th>0</th>\n",
       "      <td>http://mashable.com/2014/12/10/cia-torture-rep...</td>\n",
       "      <td>28.0</td>\n",
       "      <td>9.0</td>\n",
       "      <td>188.0</td>\n",
       "      <td>0.732620</td>\n",
       "      <td>1.0</td>\n",
       "      <td>0.844262</td>\n",
       "      <td>5.0</td>\n",
       "      <td>1.0</td>\n",
       "      <td>1.0</td>\n",
       "      <td>...</td>\n",
       "      <td>0.200000</td>\n",
       "      <td>0.80</td>\n",
       "      <td>-0.487500</td>\n",
       "      <td>-0.60</td>\n",
       "      <td>-0.250000</td>\n",
       "      <td>0.9</td>\n",
       "      <td>0.8</td>\n",
       "      <td>0.4</td>\n",
       "      <td>0.8</td>\n",
       "      <td>1</td>\n",
       "    </tr>\n",
       "    <tr>\n",
       "      <th>1</th>\n",
       "      <td>http://mashable.com/2013/10/18/bitlock-kicksta...</td>\n",
       "      <td>447.0</td>\n",
       "      <td>7.0</td>\n",
       "      <td>297.0</td>\n",
       "      <td>0.653199</td>\n",
       "      <td>1.0</td>\n",
       "      <td>0.815789</td>\n",
       "      <td>9.0</td>\n",
       "      <td>4.0</td>\n",
       "      <td>1.0</td>\n",
       "      <td>...</td>\n",
       "      <td>0.160000</td>\n",
       "      <td>0.50</td>\n",
       "      <td>-0.135340</td>\n",
       "      <td>-0.40</td>\n",
       "      <td>-0.050000</td>\n",
       "      <td>0.1</td>\n",
       "      <td>-0.1</td>\n",
       "      <td>0.4</td>\n",
       "      <td>0.1</td>\n",
       "      <td>0</td>\n",
       "    </tr>\n",
       "    <tr>\n",
       "      <th>2</th>\n",
       "      <td>http://mashable.com/2013/07/24/google-glass-po...</td>\n",
       "      <td>533.0</td>\n",
       "      <td>11.0</td>\n",
       "      <td>181.0</td>\n",
       "      <td>0.660377</td>\n",
       "      <td>1.0</td>\n",
       "      <td>0.775701</td>\n",
       "      <td>4.0</td>\n",
       "      <td>3.0</td>\n",
       "      <td>1.0</td>\n",
       "      <td>...</td>\n",
       "      <td>0.136364</td>\n",
       "      <td>1.00</td>\n",
       "      <td>0.000000</td>\n",
       "      <td>0.00</td>\n",
       "      <td>0.000000</td>\n",
       "      <td>0.3</td>\n",
       "      <td>1.0</td>\n",
       "      <td>0.2</td>\n",
       "      <td>1.0</td>\n",
       "      <td>0</td>\n",
       "    </tr>\n",
       "    <tr>\n",
       "      <th>3</th>\n",
       "      <td>http://mashable.com/2013/11/21/these-are-the-m...</td>\n",
       "      <td>413.0</td>\n",
       "      <td>12.0</td>\n",
       "      <td>781.0</td>\n",
       "      <td>0.497409</td>\n",
       "      <td>1.0</td>\n",
       "      <td>0.677350</td>\n",
       "      <td>10.0</td>\n",
       "      <td>3.0</td>\n",
       "      <td>1.0</td>\n",
       "      <td>...</td>\n",
       "      <td>0.100000</td>\n",
       "      <td>1.00</td>\n",
       "      <td>-0.195701</td>\n",
       "      <td>-0.40</td>\n",
       "      <td>-0.071429</td>\n",
       "      <td>0.0</td>\n",
       "      <td>0.0</td>\n",
       "      <td>0.5</td>\n",
       "      <td>0.0</td>\n",
       "      <td>0</td>\n",
       "    </tr>\n",
       "    <tr>\n",
       "      <th>4</th>\n",
       "      <td>http://mashable.com/2014/02/11/parking-ticket-...</td>\n",
       "      <td>331.0</td>\n",
       "      <td>8.0</td>\n",
       "      <td>177.0</td>\n",
       "      <td>0.685714</td>\n",
       "      <td>1.0</td>\n",
       "      <td>0.830357</td>\n",
       "      <td>3.0</td>\n",
       "      <td>2.0</td>\n",
       "      <td>1.0</td>\n",
       "      <td>...</td>\n",
       "      <td>0.100000</td>\n",
       "      <td>0.55</td>\n",
       "      <td>-0.175000</td>\n",
       "      <td>-0.25</td>\n",
       "      <td>-0.100000</td>\n",
       "      <td>0.0</td>\n",
       "      <td>0.0</td>\n",
       "      <td>0.5</td>\n",
       "      <td>0.0</td>\n",
       "      <td>0</td>\n",
       "    </tr>\n",
       "  </tbody>\n",
       "</table>\n",
       "<p>5 rows × 61 columns</p>\n",
       "</div>"
      ],
      "text/plain": [
       "                                                 url  timedelta  \\\n",
       "0  http://mashable.com/2014/12/10/cia-torture-rep...       28.0   \n",
       "1  http://mashable.com/2013/10/18/bitlock-kicksta...      447.0   \n",
       "2  http://mashable.com/2013/07/24/google-glass-po...      533.0   \n",
       "3  http://mashable.com/2013/11/21/these-are-the-m...      413.0   \n",
       "4  http://mashable.com/2014/02/11/parking-ticket-...      331.0   \n",
       "\n",
       "   n_tokens_title  n_tokens_content  n_unique_tokens  n_non_stop_words  \\\n",
       "0             9.0             188.0         0.732620               1.0   \n",
       "1             7.0             297.0         0.653199               1.0   \n",
       "2            11.0             181.0         0.660377               1.0   \n",
       "3            12.0             781.0         0.497409               1.0   \n",
       "4             8.0             177.0         0.685714               1.0   \n",
       "\n",
       "   n_non_stop_unique_tokens  num_hrefs  num_self_hrefs  num_imgs  ...  \\\n",
       "0                  0.844262        5.0             1.0       1.0  ...   \n",
       "1                  0.815789        9.0             4.0       1.0  ...   \n",
       "2                  0.775701        4.0             3.0       1.0  ...   \n",
       "3                  0.677350       10.0             3.0       1.0  ...   \n",
       "4                  0.830357        3.0             2.0       1.0  ...   \n",
       "\n",
       "   min_positive_polarity  max_positive_polarity  avg_negative_polarity  \\\n",
       "0               0.200000                   0.80              -0.487500   \n",
       "1               0.160000                   0.50              -0.135340   \n",
       "2               0.136364                   1.00               0.000000   \n",
       "3               0.100000                   1.00              -0.195701   \n",
       "4               0.100000                   0.55              -0.175000   \n",
       "\n",
       "   min_negative_polarity  max_negative_polarity  title_subjectivity  \\\n",
       "0                  -0.60              -0.250000                 0.9   \n",
       "1                  -0.40              -0.050000                 0.1   \n",
       "2                   0.00               0.000000                 0.3   \n",
       "3                  -0.40              -0.071429                 0.0   \n",
       "4                  -0.25              -0.100000                 0.0   \n",
       "\n",
       "   title_sentiment_polarity  abs_title_subjectivity  \\\n",
       "0                       0.8                     0.4   \n",
       "1                      -0.1                     0.4   \n",
       "2                       1.0                     0.2   \n",
       "3                       0.0                     0.5   \n",
       "4                       0.0                     0.5   \n",
       "\n",
       "   abs_title_sentiment_polarity  Popular  \n",
       "0                           0.8        1  \n",
       "1                           0.1        0  \n",
       "2                           1.0        0  \n",
       "3                           0.0        0  \n",
       "4                           0.0        0  \n",
       "\n",
       "[5 rows x 61 columns]"
      ]
     },
     "execution_count": 89,
     "metadata": {},
     "output_type": "execute_result"
    }
   ],
   "source": [
    "# Lectura de la información de archivo .csv\n",
    "df = pd.read_csv('https://raw.githubusercontent.com/davidzarruk/MIAD_ML_NLP_2023/main/datasets/mashable.csv', index_col=0)\n",
    "df.head()"
   ]
  },
  {
   "cell_type": "code",
   "execution_count": 90,
   "metadata": {},
   "outputs": [
    {
     "data": {
      "text/plain": [
       "0.5"
      ]
     },
     "execution_count": 90,
     "metadata": {},
     "output_type": "execute_result"
    }
   ],
   "source": [
    "# Definición variable de interes y variables predictoras\n",
    "X = df.drop(['url', 'Popular'], axis=1)\n",
    "y = df['Popular']\n",
    "y.mean()"
   ]
  },
  {
   "cell_type": "code",
   "execution_count": 91,
   "metadata": {},
   "outputs": [],
   "source": [
    "# División de la muestra en set de entrenamiento y prueba\n",
    "from sklearn.model_selection import train_test_split\n",
    "X_train, X_test, y_train, y_test = train_test_split(X, y, random_state=1)"
   ]
  },
  {
   "cell_type": "markdown",
   "metadata": {},
   "source": [
    "### Punto 6 - Árbol de decisión y regresión logística\n",
    "En la celda 6 construya un árbol de decisión y una regresión logística. Para el árbol calibre al menos un parámetro y evalúe el desempeño de cada modelo usando las métricas de Accuracy y F1-Score."
   ]
  },
  {
   "cell_type": "code",
   "execution_count": 93,
   "metadata": {},
   "outputs": [
    {
     "name": "stdout",
     "output_type": "stream",
     "text": [
      "Árbol de decisión:\n",
      "Accuracy: 0.6373333333333333\n",
      "F1-Score: 0.6616915422885573\n",
      "\n",
      "Regresión logística:\n",
      "Accuracy: 0.616\n",
      "F1-Score: 0.6011080332409973\n"
     ]
    }
   ],
   "source": [
    "# Celda 6\n",
    "from sklearn.model_selection import train_test_split\n",
    "from sklearn.tree import DecisionTreeClassifier\n",
    "from sklearn.linear_model import LogisticRegression\n",
    "from sklearn.metrics import accuracy_score, f1_score\n",
    "\n",
    "\n",
    "# Definición de variables predictoras y variable de interés\n",
    "X = df.drop(['url', 'Popular'], axis=1)\n",
    "y = df['Popular']\n",
    "\n",
    "# División de la muestra en set de entrenamiento y prueba\n",
    "X_train, X_test, y_train, y_test = train_test_split(X, y, random_state=1)\n",
    "\n",
    "# Árbol de decisión\n",
    "tree_model = DecisionTreeClassifier(max_depth=5, random_state=1)  # Se calibra el parámetro max_depth\n",
    "tree_model.fit(X_train, y_train)\n",
    "tree_pred = tree_model.predict(X_test)\n",
    "\n",
    "# Métricas de desempeño para el árbol de decisión\n",
    "tree_accuracy = accuracy_score(y_test, tree_pred)\n",
    "tree_f1 = f1_score(y_test, tree_pred)\n",
    "\n",
    "# Regresión logística\n",
    "logistic_model = LogisticRegression(max_iter=1000, random_state=1)  # Se calibra el parámetro max_iter\n",
    "logistic_model.fit(X_train, y_train)\n",
    "logistic_pred = logistic_model.predict(X_test)\n",
    "\n",
    "# Métricas de desempeño para la regresión logística\n",
    "logistic_accuracy = accuracy_score(y_test, logistic_pred)\n",
    "logistic_f1 = f1_score(y_test, logistic_pred)\n",
    "\n",
    "# Imprimir métricas de desempeño\n",
    "print(\"Árbol de decisión:\")\n",
    "print(\"Accuracy:\", tree_accuracy)\n",
    "print(\"F1-Score:\", tree_f1)\n",
    "print()\n",
    "print(\"Regresión logística:\")\n",
    "print(\"Accuracy:\", logistic_accuracy)\n",
    "print(\"F1-Score:\", logistic_f1)\n"
   ]
  },
  {
   "cell_type": "markdown",
   "metadata": {},
   "source": [
    "### Punto 7 - Votación Mayoritaria\n",
    "En la celda 7 elabore un esamble con la metodología de **Votación mayoritaria** compuesto por 300 muestras bagged para cada uno de los siguientes escenarios:\n",
    "\n",
    "-100 árboles de decisión donde max_depth tome un valor de su elección\\\n",
    "-100 árboles de decisión donde min_samples_leaf tome un valor de su elección\\\n",
    "-100 regresiones logísticas\n",
    "\n",
    "Evalúe cada uno de los tres modelos de manera independiente utilizando las métricas de Accuracy y F1-Score, luego evalúe el ensamble de modelos y compare los resultados. "
   ]
  },
  {
   "cell_type": "code",
   "execution_count": 97,
   "metadata": {},
   "outputs": [
    {
     "name": "stdout",
     "output_type": "stream",
     "text": [
      "Árbol de decisión (max_depth):\n",
      "Accuracy: 0.6373333333333333\n",
      "F1-Score: 0.6616915422885573\n",
      "\n",
      "Árbol de decisión (min_samples_leaf):\n",
      "Accuracy: 0.542\n",
      "F1-Score: 0.5459352280237937\n",
      "\n",
      "Regresión logística:\n",
      "Accuracy: 0.616\n",
      "F1-Score: 0.6011080332409973\n",
      "\n",
      "Modelo de ensamble (Votación Mayoritaria):\n",
      "Accuracy: 0.6153333333333333\n",
      "F1-Score: 0.6186384666226042\n"
     ]
    }
   ],
   "source": [
    "# Celda 7\n",
    "from sklearn.ensemble import VotingClassifier\n",
    "from sklearn.ensemble import BaggingClassifier\n",
    "\n",
    "# Definir modelos base\n",
    "tree_max_depth = DecisionTreeClassifier(max_depth=5, random_state=1)\n",
    "tree_min_samples_leaf = DecisionTreeClassifier(min_samples_leaf=5, random_state=1)\n",
    "logistic_regression = LogisticRegression(max_iter=1000, random_state=1)\n",
    "\n",
    "# Construir modelo de ensamble\n",
    "ensemble_model = VotingClassifier(estimators=[\n",
    "    ('tree_max_depth', tree_max_depth),\n",
    "    ('tree_min_samples_leaf', tree_min_samples_leaf),\n",
    "    ('logistic_regression', logistic_regression)\n",
    "], voting='hard')\n",
    "\n",
    "# Entrenar modelos base\n",
    "tree_max_depth.fit(X_train, y_train)\n",
    "tree_min_samples_leaf.fit(X_train, y_train)\n",
    "logistic_regression.fit(X_train, y_train)\n",
    "\n",
    "# Evaluar modelos base de manera independiente\n",
    "tree_max_depth_accuracy = tree_max_depth.score(X_test, y_test)\n",
    "tree_max_depth_f1 = f1_score(y_test, tree_max_depth.predict(X_test))\n",
    "tree_min_samples_leaf_accuracy = tree_min_samples_leaf.score(X_test, y_test)\n",
    "tree_min_samples_leaf_f1 = f1_score(y_test, tree_min_samples_leaf.predict(X_test))\n",
    "logistic_regression_accuracy = logistic_regression.score(X_test, y_test)\n",
    "logistic_regression_f1 = f1_score(y_test, logistic_regression.predict(X_test))\n",
    "\n",
    "# Imprimir métricas de desempeño de modelos base\n",
    "print(\"Árbol de decisión (max_depth):\")\n",
    "print(\"Accuracy:\", tree_max_depth_accuracy)\n",
    "print(\"F1-Score:\", tree_max_depth_f1)\n",
    "print()\n",
    "print(\"Árbol de decisión (min_samples_leaf):\")\n",
    "print(\"Accuracy:\", tree_min_samples_leaf_accuracy)\n",
    "print(\"F1-Score:\", tree_min_samples_leaf_f1)\n",
    "print()\n",
    "print(\"Regresión logística:\")\n",
    "print(\"Accuracy:\", logistic_regression_accuracy)\n",
    "print(\"F1-Score:\", logistic_regression_f1)\n",
    "print()\n",
    "\n",
    "# Entrenar modelo de ensamble\n",
    "ensemble_model.fit(X_train, y_train)\n",
    "\n",
    "# Evaluar modelo de ensamble\n",
    "ensemble_accuracy = ensemble_model.score(X_test, y_test)\n",
    "ensemble_f1 = f1_score(y_test, ensemble_model.predict(X_test))\n",
    "\n",
    "# Imprimir métricas de desempeño del modelo de ensamble\n",
    "print(\"Modelo de ensamble (Votación Mayoritaria):\")\n",
    "print(\"Accuracy:\", ensemble_accuracy)\n",
    "print(\"F1-Score:\", ensemble_f1)\n"
   ]
  },
  {
   "cell_type": "markdown",
   "metadata": {},
   "source": [
    "### Punto 8 - Votación Ponderada\n",
    "En la celda 8 elabore un ensamble con la metodología de **Votación ponderada** compuesto por 300 muestras bagged para los mismos tres escenarios del punto 7. Evalúe los modelos utilizando las métricas de Accuracy y F1-Score"
   ]
  },
  {
   "cell_type": "code",
   "execution_count": 110,
   "metadata": {},
   "outputs": [
    {
     "name": "stdout",
     "output_type": "stream",
     "text": [
      "Accuracy del ensamble ponderado: 0.654\n",
      "F1-Score del ensamble ponderado: 0.6556071665560717\n"
     ]
    }
   ],
   "source": [
    "# Celda 8\n",
    "from sklearn.ensemble import BaggingClassifier, VotingClassifier\n",
    "from sklearn.tree import DecisionTreeClassifier\n",
    "from sklearn.linear_model import LogisticRegression\n",
    "from sklearn.metrics import accuracy_score, f1_score\n",
    "# Árboles de decisión con parámetro max_depth\n",
    "decision_tree_max_depth = DecisionTreeClassifier(max_depth=3) \n",
    "bagged_decision_tree_max_depth = BaggingClassifier(decision_tree_max_depth, n_estimators=100)\n",
    "\n",
    "# Árboles de decisión con parámetro min_samples_leaf\n",
    "decision_tree_min_samples_leaf = DecisionTreeClassifier(min_samples_leaf=5) \n",
    "bagged_decision_tree_min_samples_leaf = BaggingClassifier(decision_tree_min_samples_leaf, n_estimators=100)\n",
    "\n",
    "# Regresión logística\n",
    "logistic_regression = LogisticRegression()\n",
    "\n",
    "\n",
    "voting_ensemble = VotingClassifier(estimators=[\n",
    "    ('decision_tree_max_depth', bagged_decision_tree_max_depth),\n",
    "    ('decision_tree_min_samples_leaf', bagged_decision_tree_min_samples_leaf),\n",
    "    ('logistic_regression', logistic_regression)\n",
    "], voting='soft') # 'soft' para la votación ponderada\n",
    "\n",
    "voting_ensemble.fit(X_train, y_train)\n",
    "\n",
    "\n",
    "# Predicción de los valores de test\n",
    "y_pred_voting = voting_ensemble.predict(X_test)\n",
    "\n",
    "# Calcular las métricas de desempeño\n",
    "accuracy = accuracy_score(y_test, y_pred_voting)\n",
    "f1 = f1_score(y_test, y_pred_voting)\n",
    "\n",
    "print(\"Accuracy del ensamble ponderado:\", accuracy)\n",
    "print(\"F1-Score del ensamble ponderado:\", f1)"
   ]
  },
  {
   "cell_type": "markdown",
   "metadata": {},
   "source": [
    "### Punto 9 - Comparación y análisis de resultados\n",
    "En la celda 9 comente sobre los resultados obtenidos con las metodologías usadas en los puntos 7 y 8, compare los resultados y enuncie posibles ventajas o desventajas de cada una de ellas."
   ]
  },
  {
   "cell_type": "markdown",
   "metadata": {},
   "source": [
    "# Celda 9\n",
    "Al comparar los resultados obtenidos con las metodologías utilizadas en los puntos 7 y 8, podemos observar lo siguiente:\n",
    "\n",
    "Resultados de la metodología del punto 7:\n",
    "\n",
    "- Para el Árbol de decisión con el parámetro max_depth, se obtiene un Accuracy de aproximadamente 0.637 y un F1-Score de aproximadamente 0.662.\n",
    "- Para el Árbol de decisión con el parámetro min_samples_leaf, se obtiene un Accuracy de alrededor de 0.542 y un F1-Score de aproximadamente 0.546.\n",
    "- Para la Regresión logística, se obtiene un Accuracy de alrededor de 0.616 y un F1-Score de aproximadamente 0.601.\n",
    "- Para el Modelo de ensamble con Votación Mayoritaria, se obtiene un Accuracy de aproximadamente 0.615 y un F1-Score de aproximadamente 0.619.\n",
    "\n",
    "Resultados de la metodología del punto 8:\n",
    "\n",
    "- Para el Modelo de ensamble con Votación Ponderada, se obtiene un Accuracy de aproximadamente 0.654 y un F1-Score de aproximadamente 0.656.\n",
    "\n",
    "Comparación de las dos metodologías:\n",
    "\n",
    "- En términos de Accuracy, el Modelo de ensamble con Votación Ponderada (punto 8) supera ligeramente al Modelo de ensamble con Votación Mayoritaria (punto 7).\n",
    "- En términos de F1-Score, el Modelo de ensamble con Votación Ponderada también muestra un ligero aumento en el desempeño en comparación con el Modelo de ensamble con Votación Mayoritaria.\n",
    "\n",
    "- Ventajas del Modelo de ensamble con Votación Ponderada: Esta metodología tiene en cuenta la confianza de cada clasificador al realizar la predicción, lo que puede conducir generalizar de mejor manera el desempeño en comparación con la votación mayoritaria.\n",
    "\n",
    "- Desventajas del Modelo de ensamble con Votación Ponderada: Puede ser computacionalmente más costoso que la votación mayoritaria debido al cálculo adicional requerido para ponderar las predicciones de cada clasificador. \n",
    "\n",
    "- El Modelo de Ensamble con Votación Ponderada proporciona un mejor desempeño en términos de Accuracy y F1-Score en comparación con el Modelo de Ensamble con Votación Mayoritaria, lo que sugiere que considerar la confianza de cada clasificador puede mejorar la capacidad de generalización del modelo. "
   ]
  }
 ],
 "metadata": {
  "kernelspec": {
   "display_name": "Python 3 (ipykernel)",
   "language": "python",
   "name": "python3"
  },
  "language_info": {
   "codemirror_mode": {
    "name": "ipython",
    "version": 3
   },
   "file_extension": ".py",
   "mimetype": "text/x-python",
   "name": "python",
   "nbconvert_exporter": "python",
   "pygments_lexer": "ipython3",
   "version": "3.9.12"
  }
 },
 "nbformat": 4,
 "nbformat_minor": 4
}
